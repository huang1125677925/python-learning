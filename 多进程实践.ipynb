{
 "cells": [
  {
   "cell_type": "code",
   "execution_count": 1,
   "metadata": {},
   "outputs": [
    {
     "name": "stdout",
     "output_type": "stream",
     "text": [
      "1.142s\n"
     ]
    }
   ],
   "source": [
    "import time\n",
    "     \n",
    "'''\n",
    "写文件\n",
    "'''\n",
    "def write_file(filename,num):\n",
    "    target = open(filename, 'w')\n",
    "    for i in range(1,num+1):\n",
    "        target.write(\"%d line\\n\" % i)\n",
    "     \n",
    "if __name__ == '__main__':\n",
    "    start = time.time()\n",
    "    #100W\n",
    "    write_file('1.txt', 1000000)\n",
    "    #200W\n",
    "    write_file('2.txt', 2000000)\n",
    "     \n",
    "    end = time.time()\n",
    "    print(str(round(end-start,3))+'s')"
   ]
  },
  {
   "cell_type": "code",
   "execution_count": 2,
   "metadata": {},
   "outputs": [
    {
     "name": "stdout",
     "output_type": "stream",
     "text": [
      "0.788s\n"
     ]
    }
   ],
   "source": [
    "import time\n",
    "import multiprocessing\n",
    "def write_file(filename,num):\n",
    "    target = open(filename, 'w')\n",
    "    for i in range(1,num+1):\n",
    "        target.write(\"%d line\\n\" % i)\n",
    "     \n",
    "if __name__ == '__main__':\n",
    "    start = time.time()\n",
    "     \n",
    "    p1 = multiprocessing.Process(target=write_file,args=('1.txt', 1000000))\n",
    "    p2 = multiprocessing.Process(target=write_file,args=('2.txt', 2000000))\n",
    "     \n",
    "    #启动子进程\n",
    "    p1.start()\n",
    "    p2.start()\n",
    "     \n",
    "    #等待fork的子进程终止再继续往下执行，可选填一个timeout参数\n",
    "    p1.join()\n",
    "    p2.join()\n",
    "     \n",
    "    end = time.time()\n",
    "    print(str(round(end-start,3))+'s')"
   ]
  },
  {
   "cell_type": "code",
   "execution_count": 4,
   "metadata": {},
   "outputs": [
    {
     "name": "stdout",
     "output_type": "stream",
     "text": [
      "----等待子进程结束后进行-----\n",
      "----子进程中0___\n",
      "----子进程中1___\n",
      "----子进程中2___\n"
     ]
    }
   ],
   "source": [
    "from multiprocessing import Process\n",
    "import time\n",
    "import random\n",
    " \n",
    "def test():\n",
    "\tfor i in range(random.randint(1,5)):\n",
    "\t\tprint(\"----子进程中%d___\"%i)\n",
    "\t\ttime.sleep(1)\n",
    " \n",
    "if __name__=='__main__':\n",
    "\tp=Process(target=test)\n",
    "\tp.start()\n",
    "\tp.join()\n",
    "    #这句话保证子进程结束后再向下执行\n",
    "\t#p.join(2)#等待2s\n",
    "\t#p.terminate() #进行结束\n",
    "\tprint(\"----等待子进程结束后进行-----\")\n",
    "#整个子进程结束后主进程才结束，p.join保证p进程结束后，才继续向下执行\n",
    "# '''\n",
    "# ----子进程中0___\n",
    "# ----子进程中1___\n",
    "# ----等待子进程结束后进行-----\n",
    "# '''"
   ]
  },
  {
   "cell_type": "code",
   "execution_count": 5,
   "metadata": {},
   "outputs": [
    {
     "name": "stdout",
     "output_type": "stream",
     "text": [
      "----子进程中0___\n",
      "----子进程中1___\n",
      "----子进程中2___\n",
      "----子进程中3___\n",
      "----等待子进程结束后进行-----\n"
     ]
    }
   ],
   "source": [
    "from multiprocessing import Process\n",
    "import time\n",
    "import random\n",
    " \n",
    "def test():\n",
    "\tfor i in range(random.randint(1,5)):\n",
    "\t\tprint(\"----子进程中%d___\"%i)\n",
    "\t\ttime.sleep(1)\n",
    " \n",
    "if __name__=='__main__':\n",
    "\tp=Process(target=test)\n",
    "\tp.start()\n",
    "\tp.join()\n",
    "    #这句话保证子进程结束后再向下执行\n",
    "\t#p.join(2)#等待2s\n",
    "\t#p.terminate() #进行结束\n",
    "\tprint(\"----等待子进程结束后进行-----\")\n",
    "#整个子进程结束后主进程才结束，p.join保证p进程结束后，才继续向下执行\n",
    "# '''\n",
    "# ----子进程中0___\n",
    "# ----子进程中1___\n",
    "# ----等待子进程结束后进行-----\n",
    "# '''"
   ]
  },
  {
   "cell_type": "code",
   "execution_count": 6,
   "metadata": {},
   "outputs": [
    {
     "name": "stdout",
     "output_type": "stream",
     "text": [
      "con2 got: ['spam', 42, 'egg']\n"
     ]
    }
   ],
   "source": [
    "from multiprocessing import Process, Pipe\n",
    "\n",
    "def send(pipe):\n",
    "    pipe.send(['spam'] + [42, 'egg'])   # send 传输一个列表\n",
    "    pipe.close()\n",
    "\n",
    "if __name__ == '__main__':\n",
    "    (con1, con2) = Pipe()                            # 创建两个 Pipe 实例\n",
    "    sender = Process(target=send, args=(con1, ))     # 函数的参数，args 一定是实例化之后的 Pipe 变量，不能直接写 args=(Pip(),)\n",
    "    sender.start()                                   # Process 类启动进程\n",
    "    print(\"con2 got: %s\" % con2.recv())              # 管道的另一端 con2 从send收到消息\n",
    "    con2.close()                                     # 关闭管道\n"
   ]
  },
  {
   "cell_type": "code",
   "execution_count": 7,
   "metadata": {},
   "outputs": [
    {
     "name": "stdout",
     "output_type": "stream",
     "text": [
      "talker got: {'mm', 'aa', 'pp', 'ss'}\n",
      "parent got: {'name': 'Bob', 'spam': 42}\n",
      "parent exit\n"
     ]
    }
   ],
   "source": [
    "from multiprocessing import Process, Pipe\n",
    "\n",
    "def talk(pipe):\n",
    "    pipe.send(dict(name='Bob', spam=42))            # 传输一个字典\n",
    "    reply = pipe.recv()                             # 接收传输的数据\n",
    "    print('talker got:', reply)\n",
    "\n",
    "if __name__ == '__main__':\n",
    "    (parentEnd, childEnd) = Pipe()                  # 创建两个 Pipe() 实例，也可以改成 conf1， conf2\n",
    "    child = Process(target=talk, args=(childEnd,))  # 创建一个 Process 进程，名称为 child\n",
    "    child.start()                                   # 启动进程\n",
    "    print('parent got:', parentEnd.recv())          # parentEnd 是一个 Pip() 管道，可以接收 child Process 进程传输的数据\n",
    "    parentEnd.send({x * 2 for x in 'spam'})         # parentEnd 是一个 Pip() 管道，可以使用 send 方法来传输数据\n",
    "    child.join()                                    # 传输的数据被 talk 函数内的 pip 管道接收，并赋值给 reply\n",
    "    print('parent exit')"
   ]
  },
  {
   "cell_type": "code",
   "execution_count": 8,
   "metadata": {},
   "outputs": [
    {
     "name": "stdout",
     "output_type": "stream",
     "text": [
      "talker got: {'mm', 'aa', 'pp', 'ss'}\n",
      "parent got: {'name': 'Bob', 'spam': 42}\n",
      "parent exit\n"
     ]
    }
   ],
   "source": [
    "from multiprocessing import Process, Pipe\n",
    "\n",
    "def talk(pipe):\n",
    "    pipe.send(dict(name='Bob', spam=42))            # 传输一个字典\n",
    "    reply = pipe.recv()                             # 接收传输的数据\n",
    "    print('talker got:', reply)\n",
    "# talk是子进程，也就是子进程先执行，然后才是父进程执行\n",
    "if __name__ == '__main__':\n",
    "    (parentEnd, childEnd) = Pipe()                  # 创建两个 Pipe() 实例，也可以改成 conf1， conf2\n",
    "    child = Process(target=talk, args=(childEnd,))  # 创建一个 Process 进程，名称为 child\n",
    "    child.start()                                   # 启动进程\n",
    "    print('parent got:', parentEnd.recv())          # parentEnd 是一个 Pip() 管道，可以接收 child Process 进程传输的数据\n",
    "    parentEnd.send({x * 2 for x in 'spam'})         # parentEnd 是一个 Pip() 管道，可以使用 send 方法来传输数据\n",
    "    child.join()                                    # 传输的数据被 talk 函数内的 pip 管道接收，并赋值给 reply\n",
    "    print('parent exit')"
   ]
  },
  {
   "cell_type": "code",
   "execution_count": null,
   "metadata": {},
   "outputs": [],
   "source": []
  }
 ],
 "metadata": {
  "kernelspec": {
   "display_name": "Python 3",
   "language": "python",
   "name": "python3"
  },
  "language_info": {
   "codemirror_mode": {
    "name": "ipython",
    "version": 3
   },
   "file_extension": ".py",
   "mimetype": "text/x-python",
   "name": "python",
   "nbconvert_exporter": "python",
   "pygments_lexer": "ipython3",
   "version": "3.7.3"
  }
 },
 "nbformat": 4,
 "nbformat_minor": 2
}
