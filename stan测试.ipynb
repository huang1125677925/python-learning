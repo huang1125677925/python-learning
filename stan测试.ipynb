{
 "cells": [
  {
   "cell_type": "code",
   "execution_count": 2,
   "metadata": {},
   "outputs": [
    {
     "name": "stderr",
     "output_type": "stream",
     "text": [
      "INFO:pystan:COMPILING THE C++ CODE FOR MODEL anon_model_19a09b474d1901f191444eaf8a6b8ce2 NOW.\n",
      "WARNING:pystan:2 of 2000 iterations ended with a divergence (0.1 %).\n",
      "WARNING:pystan:Try running with adapt_delta larger than 0.8 to remove the divergences.\n"
     ]
    }
   ],
   "source": [
    "import pystan\n",
    "schools_code = \"\"\"\n",
    "data {\n",
    "    int<lower=0> J; // number of schools\n",
    "    vector[J] y; // estimated treatment effects\n",
    "    vector<lower=0>[J] sigma; // s.e. of effect estimates\n",
    "}\n",
    "parameters {\n",
    "    real mu;\n",
    "    real<lower=0> tau;\n",
    "    vector[J] eta;\n",
    "}\n",
    "transformed parameters {\n",
    "    vector[J] theta;\n",
    "    theta = mu + tau * eta;\n",
    "}\n",
    "model {\n",
    "    eta ~ normal(0, 1);\n",
    "    y ~ normal(theta, sigma);\n",
    "}\n",
    "\"\"\"\n",
    "\n",
    "schools_dat = {'J': 8,\n",
    "               'y': [28,  8, -3,  7, -1,  1, 18, 12],\n",
    "               'sigma': [15, 10, 16, 11,  9, 11, 10, 18]}\n",
    "\n",
    "sm = pystan.StanModel(model_code=schools_code)\n",
    "fit = sm.sampling(data=schools_dat, iter=1000, chains=4)"
   ]
  },
  {
   "cell_type": "code",
   "execution_count": 3,
   "metadata": {},
   "outputs": [
    {
     "name": "stderr",
     "output_type": "stream",
     "text": [
      "INFO:pystan:COMPILING THE C++ CODE FOR MODEL anon_model_4337cb01f5c9774a0dd265dcc01c105e NOW.\n"
     ]
    }
   ],
   "source": [
    "sm = pystan.StanModel(file='8schools.stan')\n",
    "fit = sm.sampling(data=schools_dat, iter=1000, chains=4)"
   ]
  },
  {
   "cell_type": "code",
   "execution_count": 4,
   "metadata": {},
   "outputs": [
    {
     "name": "stdout",
     "output_type": "stream",
     "text": [
      "Inference for Stan model: anon_model_4337cb01f5c9774a0dd265dcc01c105e.\n",
      "4 chains, each with iter=1000; warmup=500; thin=1; \n",
      "post-warmup draws per chain=500, total post-warmup draws=2000.\n",
      "\n",
      "           mean se_mean     sd   2.5%    25%    50%    75%  97.5%  n_eff   Rhat\n",
      "mu         7.99    0.19   5.21  -1.67   4.58   7.88  11.21  18.62    722    1.0\n",
      "tau        6.68     0.2   5.55   0.31   2.57   5.35   9.27  20.18    742    1.0\n",
      "eta[1]     0.43    0.02   0.93  -1.45  -0.19   0.42   1.06    2.3   1873    1.0\n",
      "eta[2]   2.4e-3    0.02   0.88   -1.7  -0.58-2.1e-3   0.57    1.8   1451    1.0\n",
      "eta[3]    -0.23    0.02   0.92  -1.93  -0.87  -0.22   0.37    1.6   2141    1.0\n",
      "eta[4]    -0.02    0.02   0.92  -1.78  -0.66  -0.02   0.59   1.75   1908    1.0\n",
      "eta[5]    -0.37    0.02   0.86  -2.07   -0.9  -0.37   0.18   1.33   1674    1.0\n",
      "eta[6]    -0.19    0.02   0.88  -1.87  -0.77  -0.21   0.39   1.62   1879    1.0\n",
      "eta[7]     0.34    0.02   0.87  -1.32  -0.25   0.33   0.92   2.09   1624    1.0\n",
      "eta[8]     0.08    0.02   0.93  -1.78  -0.54   0.07   0.71   1.89   2578    1.0\n",
      "theta[1]  11.44    0.23   8.22  -2.01   6.08  10.26  15.81  30.72   1282    1.0\n",
      "theta[2]   7.98    0.13   6.18  -4.26   4.14   7.93  11.87  20.98   2309    1.0\n",
      "theta[3]   6.01    0.18   7.92 -11.81   1.67   6.58  10.94  20.67   2001    1.0\n",
      "theta[4]   7.76    0.16   6.69  -6.56   3.84    8.0  11.72  21.08   1798    1.0\n",
      "theta[5]   5.13    0.15   6.21   -9.2   1.47   5.52   9.25  16.38   1833    1.0\n",
      "theta[6]   6.25    0.16   6.49  -8.08   2.45   6.52   10.5  18.79   1612    1.0\n",
      "theta[7]  10.67    0.16   7.04  -0.77   5.97   9.93   14.5  27.69   1972    1.0\n",
      "theta[8]   8.61    0.18    7.7   -7.0   4.12   8.37  13.07  25.01   1840    1.0\n",
      "lp__      -4.82    0.09    2.5 -10.55   -6.3  -4.62   -3.1  -0.57    722   1.01\n",
      "\n",
      "Samples were drawn using NUTS at Tue May 28 20:51:55 2019.\n",
      "For each parameter, n_eff is a crude measure of effective sample size,\n",
      "and Rhat is the potential scale reduction factor on split chains (at \n",
      "convergence, Rhat=1).\n"
     ]
    }
   ],
   "source": [
    "la = fit.extract(permuted=True)  # return a dictionary of arrays\n",
    "mu = la['mu']\n",
    "\n",
    "## return an array of three dimensions: iterations, chains, parameters\n",
    "a = fit.extract(permuted=False)\n",
    "print(fit)"
   ]
  },
  {
   "cell_type": "code",
   "execution_count": null,
   "metadata": {},
   "outputs": [],
   "source": []
  }
 ],
 "metadata": {
  "kernelspec": {
   "display_name": "Python 3",
   "language": "python",
   "name": "python3"
  },
  "language_info": {
   "codemirror_mode": {
    "name": "ipython",
    "version": 3
   },
   "file_extension": ".py",
   "mimetype": "text/x-python",
   "name": "python",
   "nbconvert_exporter": "python",
   "pygments_lexer": "ipython3",
   "version": "3.7.3"
  }
 },
 "nbformat": 4,
 "nbformat_minor": 2
}
