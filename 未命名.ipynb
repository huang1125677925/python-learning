{
 "cells": [
  {
   "cell_type": "code",
   "execution_count": 1,
   "metadata": {},
   "outputs": [
    {
     "data": {
      "text/html": [
       "<div>\n",
       "<style scoped>\n",
       "    .dataframe tbody tr th:only-of-type {\n",
       "        vertical-align: middle;\n",
       "    }\n",
       "\n",
       "    .dataframe tbody tr th {\n",
       "        vertical-align: top;\n",
       "    }\n",
       "\n",
       "    .dataframe thead th {\n",
       "        text-align: right;\n",
       "    }\n",
       "</style>\n",
       "<table border=\"1\" class=\"dataframe\">\n",
       "  <thead>\n",
       "    <tr style=\"text-align: right;\">\n",
       "      <th></th>\n",
       "      <th>Unnamed: 0</th>\n",
       "      <th>timestamp</th>\n",
       "      <th>value</th>\n",
       "      <th>label</th>\n",
       "      <th>KPI ID</th>\n",
       "    </tr>\n",
       "  </thead>\n",
       "  <tbody>\n",
       "    <tr>\n",
       "      <th>0</th>\n",
       "      <td>558594</td>\n",
       "      <td>1493568000</td>\n",
       "      <td>1.45</td>\n",
       "      <td>0</td>\n",
       "      <td>ffb82d38-5f00-37db-abc0-5d2e4e4cb6aa</td>\n",
       "    </tr>\n",
       "    <tr>\n",
       "      <th>1</th>\n",
       "      <td>558595</td>\n",
       "      <td>1493568060</td>\n",
       "      <td>1.80</td>\n",
       "      <td>0</td>\n",
       "      <td>ffb82d38-5f00-37db-abc0-5d2e4e4cb6aa</td>\n",
       "    </tr>\n",
       "    <tr>\n",
       "      <th>2</th>\n",
       "      <td>558596</td>\n",
       "      <td>1493568120</td>\n",
       "      <td>1.60</td>\n",
       "      <td>0</td>\n",
       "      <td>ffb82d38-5f00-37db-abc0-5d2e4e4cb6aa</td>\n",
       "    </tr>\n",
       "    <tr>\n",
       "      <th>3</th>\n",
       "      <td>558597</td>\n",
       "      <td>1493568180</td>\n",
       "      <td>1.65</td>\n",
       "      <td>0</td>\n",
       "      <td>ffb82d38-5f00-37db-abc0-5d2e4e4cb6aa</td>\n",
       "    </tr>\n",
       "    <tr>\n",
       "      <th>4</th>\n",
       "      <td>558598</td>\n",
       "      <td>1493568240</td>\n",
       "      <td>1.70</td>\n",
       "      <td>0</td>\n",
       "      <td>ffb82d38-5f00-37db-abc0-5d2e4e4cb6aa</td>\n",
       "    </tr>\n",
       "  </tbody>\n",
       "</table>\n",
       "</div>"
      ],
      "text/plain": [
       "   Unnamed: 0   timestamp  value  label                                KPI ID\n",
       "0      558594  1493568000   1.45      0  ffb82d38-5f00-37db-abc0-5d2e4e4cb6aa\n",
       "1      558595  1493568060   1.80      0  ffb82d38-5f00-37db-abc0-5d2e4e4cb6aa\n",
       "2      558596  1493568120   1.60      0  ffb82d38-5f00-37db-abc0-5d2e4e4cb6aa\n",
       "3      558597  1493568180   1.65      0  ffb82d38-5f00-37db-abc0-5d2e4e4cb6aa\n",
       "4      558598  1493568240   1.70      0  ffb82d38-5f00-37db-abc0-5d2e4e4cb6aa"
      ]
     },
     "execution_count": 1,
     "metadata": {},
     "output_type": "execute_result"
    }
   ],
   "source": [
    "import pandas as pd\n",
    "data=pd.read_csv('/Users/huangchuang/Downloads/test1.csv')\n",
    "data.head()"
   ]
  },
  {
   "cell_type": "code",
   "execution_count": 3,
   "metadata": {},
   "outputs": [
    {
     "data": {
      "text/plain": [
       "numpy.int64"
      ]
     },
     "execution_count": 3,
     "metadata": {},
     "output_type": "execute_result"
    }
   ],
   "source": [
    "type(data['timestamp'][0])"
   ]
  },
  {
   "cell_type": "code",
   "execution_count": null,
   "metadata": {},
   "outputs": [],
   "source": []
  }
 ],
 "metadata": {
  "kernelspec": {
   "display_name": "Python 3",
   "language": "python",
   "name": "python3"
  },
  "language_info": {
   "codemirror_mode": {
    "name": "ipython",
    "version": 3
   },
   "file_extension": ".py",
   "mimetype": "text/x-python",
   "name": "python",
   "nbconvert_exporter": "python",
   "pygments_lexer": "ipython3",
   "version": "3.7.3"
  }
 },
 "nbformat": 4,
 "nbformat_minor": 2
}
