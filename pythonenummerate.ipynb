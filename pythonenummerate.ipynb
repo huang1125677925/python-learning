{
 "cells": [
  {
   "cell_type": "code",
   "execution_count": 2,
   "metadata": {},
   "outputs": [
    {
     "name": "stdout",
     "output_type": "stream",
     "text": [
      "0 huang\n",
      "1 chuang\n",
      "2 ru\n",
      "3 ji\n",
      "4 yu\n"
     ]
    }
   ],
   "source": [
    "name_list=['huang','chuang','ru','ji','yu']\n",
    "for counter,value in enumerate(name_list):\n",
    "    print(counter,value)"
   ]
  },
  {
   "cell_type": "code",
   "execution_count": 6,
   "metadata": {},
   "outputs": [
    {
     "name": "stdout",
     "output_type": "stream",
     "text": [
      "1 huang\n",
      "2 chuang\n",
      "3 ru\n",
      "4 ji\n",
      "5 yu\n"
     ]
    }
   ],
   "source": [
    "for counter,value in enumerate(name_list,1):\n",
    "    print(counter,value)"
   ]
  },
  {
   "cell_type": "code",
   "execution_count": null,
   "metadata": {},
   "outputs": [],
   "source": []
  }
 ],
 "metadata": {
  "kernelspec": {
   "display_name": "Python 3",
   "language": "python",
   "name": "python3"
  },
  "language_info": {
   "codemirror_mode": {
    "name": "ipython",
    "version": 3
   },
   "file_extension": ".py",
   "mimetype": "text/x-python",
   "name": "python",
   "nbconvert_exporter": "python",
   "pygments_lexer": "ipython3",
   "version": "3.7.3"
  }
 },
 "nbformat": 4,
 "nbformat_minor": 2
}
