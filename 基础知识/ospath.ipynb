{
  "cells": [
    {
      "cell_type": "code",
      "execution_count": 4,
      "metadata": {
        "collapsed": true,
        "pycharm": {
          "is_executing": false
        }
      },
      "outputs": [
        {
          "data": {
            "text/plain": "0          1\n1       null\n2          1\n3          1\n4       null\n5       null\n6          1\n7       null\n8          1\n9       null\n10         1\n11         1\n12         1\n13      null\n14      null\n15         1\n16         1\n17      null\n18         1\n19         1\n20      null\n21         1\n22      null\n23      null\n24      null\n25         1\n26      null\n27         1\n28         1\n29      null\n        ... \n5970       1\n5971       1\n5972    null\n5973    null\n5974    null\n5975       1\n5976    null\n5977    null\n5978    null\n5979    null\n5980    null\n5981    null\n5982    null\n5983       1\n5984       1\n5985       1\n5986       1\n5987       1\n5988    null\n5989       1\n5990       1\n5991    null\n5992    null\n5993    null\n5994    null\n5995    null\n5996       1\n5997       1\n5998       1\n5999       1\nName: flag, Length: 6000, dtype: object"
          },
          "metadata": {},
          "output_type": "execute_result",
          "execution_count": 4
        }
      ],
      "source": "import pandas as pd\n\ndata\u003dpd.read_csv(\u0027train.csv\u0027)\n\ndata[\u0027flag\u0027].replace(\u0027null\u0027)\n\ndata[\u0027flag\u0027]\n\n"
    }
  ],
  "metadata": {
    "language_info": {
      "codemirror_mode": {
        "name": "ipython",
        "version": 2
      },
      "file_extension": ".py",
      "mimetype": "text/x-python",
      "name": "python",
      "nbconvert_exporter": "python",
      "pygments_lexer": "ipython2",
      "version": "2.7.6"
    },
    "kernelspec": {
      "name": "python3",
      "language": "python",
      "display_name": "Python 3"
    }
  },
  "nbformat": 4,
  "nbformat_minor": 0
}