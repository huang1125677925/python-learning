{
 "cells": [
  {
   "cell_type": "markdown",
   "metadata": {},
   "source": [
    "多线程类似于同时执行多个不同程序，多线程运行有如下优点：\n",
    "\n",
    "使用线程可以把占据长时间的程序中的任务放到后台去处理。\n",
    "用户界面可以更加吸引人，比如用户点击了一个按钮去触发某些事件的处理，可以弹出一个进度条来显示处理的进度\n",
    "程序的运行速度可能加快\n",
    "在一些等待的任务实现上如用户输入、文件读写和网络收发数据等，线程就比较有用了。在这种情况下我们可以释放一些珍贵的资源如内存占用等等。\n",
    "线程在执行过程中与进程还是有区别的。每个独立的线程有一个程序运行的入口、顺序执行序列和程序的出口。但是线程不能够独立执行，必须依存在应用程序中，由应用程序提供多个线程执行控制。\n",
    "\n",
    "每个线程都有他自己的一组CPU寄存器，称为线程的上下文，该上下文反映了线程上次运行该线程的CPU寄存器的状态。\n",
    "\n",
    "指令指针和堆栈指针寄存器是线程上下文中两个最重要的寄存器，线程总是在进程得到上下文中运行的，这些地址都用于标志拥有线程的进程地址空间中的内存。\n",
    "\n",
    "线程可以被抢占（中断）。\n",
    "在其他线程正在运行时，线程可以暂时搁置（也称为睡眠） -- 这就是线程的退让。"
   ]
  },
  {
   "cell_type": "code",
   "execution_count": 3,
   "metadata": {},
   "outputs": [
    {
     "name": "stdout",
     "output_type": "stream",
     "text": [
      "Thread-1: Fri May 10 14:41:10 2019\n",
      "Thread-1: Fri May 10 14:41:12 2019\n",
      "Thread-2: Fri May 10 14:41:12 2019\n",
      "Thread-1: Fri May 10 14:41:14 2019\n",
      "Thread-1: Fri May 10 14:41:16 2019\n",
      "Thread-2: Fri May 10 14:41:16 2019\n",
      "Thread-1: Fri May 10 14:41:18 2019\n",
      "Thread-2: Fri May 10 14:41:20 2019\n",
      "Thread-2: Fri May 10 14:41:24 2019\n",
      "Thread-2: Fri May 10 14:41:28 2019\n"
     ]
    },
    {
     "ename": "KeyboardInterrupt",
     "evalue": "",
     "output_type": "error",
     "traceback": [
      "\u001b[0;31m---------------------------------------------------------------------------\u001b[0m",
      "\u001b[0;31mKeyboardInterrupt\u001b[0m                         Traceback (most recent call last)",
      "\u001b[0;32m<ipython-input-3-4a5ae6c39f3b>\u001b[0m in \u001b[0;36m<module>\u001b[0;34m\u001b[0m\n\u001b[1;32m     20\u001b[0m \u001b[0;34m\u001b[0m\u001b[0m\n\u001b[1;32m     21\u001b[0m \u001b[0;32mwhile\u001b[0m \u001b[0;36m1\u001b[0m\u001b[0;34m:\u001b[0m\u001b[0;34m\u001b[0m\u001b[0;34m\u001b[0m\u001b[0m\n\u001b[0;32m---> 22\u001b[0;31m     \u001b[0;32mpass\u001b[0m\u001b[0;34m\u001b[0m\u001b[0;34m\u001b[0m\u001b[0m\n\u001b[0m",
      "\u001b[0;31mKeyboardInterrupt\u001b[0m: "
     ]
    }
   ],
   "source": [
    "#!/usr/bin/python3\n",
    "\n",
    "import _thread\n",
    "import time\n",
    "\n",
    "# 为线程定义一个函数\n",
    "def print_time( threadName, delay):\n",
    "    count = 0\n",
    "    while count < 5:\n",
    "        time.sleep(delay)\n",
    "        count += 1\n",
    "        print (\"%s: %s\" % ( threadName, time.ctime(time.time()) ))\n",
    "\n",
    "# 创建两个线程\n",
    "try:\n",
    "    _thread.start_new_thread( print_time, (\"Thread-1\", 2, ) )\n",
    "    _thread.start_new_thread( print_time, (\"Thread-2\", 4, ) )\n",
    "except:\n",
    "    print (\"Error: 无法启动线程\")\n",
    "\n",
    "while 1:\n",
    "    pass"
   ]
  },
  {
   "cell_type": "markdown",
   "metadata": {},
   "source": [
    "两个线程分配到的cpu时间，按照打印的顺序输出出来了"
   ]
  },
  {
   "cell_type": "code",
   "execution_count": 9,
   "metadata": {},
   "outputs": [
    {
     "name": "stdout",
     "output_type": "stream",
     "text": [
      "1\n",
      "1001\n",
      "2001\n",
      "3001\n",
      "4001\n",
      "5001\n",
      "6001\n",
      "7001\n",
      "8001\n",
      "9001\n",
      "10001\n",
      "11001\n",
      "12001\n",
      "13001\n",
      "14001\n",
      "15001\n",
      "16001\n",
      "17001\n",
      "18001\n",
      "19001\n"
     ]
    }
   ],
   "source": [
    "import threading, time, random\n",
    "count = 0\n",
    "lock = threading.Lock()\n",
    "def doAdd():\n",
    "    '''@summary: 将全局变量count 逐一的增加10000。\n",
    "    '''\n",
    "    global count, lock\n",
    "    lock.acquire()\n",
    "    for i in range(10000):\n",
    "        count = count + 1\n",
    "        if count%1000==1:\n",
    "            print(count)\n",
    "    lock.release()\n",
    "for i in range(2):\n",
    "    threading.Thread(target = doAdd, args = (), name = 'thread-' + str(i)).start()\n",
    "time.sleep(2)\t#确保线程都执行完毕\n",
    "# 保证线程顺序执行有什么用处了"
   ]
  },
  {
   "cell_type": "code",
   "execution_count": 11,
   "metadata": {},
   "outputs": [
    {
     "name": "stdout",
     "output_type": "stream",
     "text": [
      "start waiting: 17:11:53\n",
      "start join\n",
      "end join\n",
      "stop waiting 17:11:56\n"
     ]
    }
   ],
   "source": [
    "import threading, time\n",
    "def doWaiting():\n",
    "    print('start waiting:', time.strftime('%H:%M:%S'))\n",
    "    time.sleep(3)\n",
    "    print('stop waiting', time.strftime('%H:%M:%S'))\n",
    "thread1 = threading.Thread(target = doWaiting)\n",
    "thread1.start()\n",
    "time.sleep(1)  #确保线程thread1已经启动\n",
    "print('start join')\n",
    "thread1.join()\t#将一直堵塞，直到thread1运行结束。\n",
    "print('end join')"
   ]
  },
  {
   "cell_type": "code",
   "execution_count": 14,
   "metadata": {},
   "outputs": [
    {
     "name": "stdout",
     "output_type": "stream",
     "text": [
      "hider: 我已经把眼睛蒙上了\n",
      "seeker: 我已经藏好了，你快来找我吧\n",
      "hider: 我找到你了 ~_~\n",
      "hider: 我赢了\n",
      "seeker: 被你找到了，哎~~~\n"
     ]
    }
   ],
   "source": [
    "#---- Condition\n",
    "#---- 捉迷藏的游戏\n",
    "import threading, time\n",
    "class Hider(threading.Thread):\n",
    "    def __init__(self, cond, name):\n",
    "        super(Hider, self).__init__()\n",
    "        self.cond = cond\n",
    "        self.name = name\n",
    "    \n",
    "    def run(self):\n",
    "        time.sleep(1) #确保先运行Seeker中的方法   \n",
    "        \n",
    "        self.cond.acquire() #b    \n",
    "        print(self.name + ': 我已经把眼睛蒙上了')\n",
    "        self.cond.notify()\n",
    "        self.cond.wait() #c    \n",
    "                         #f \n",
    "        print(self.name + ': 我找到你了 ~_~')\n",
    "        self.cond.notify()\n",
    "        self.cond.release()\n",
    "                            #g\n",
    "        print(self.name + ': 我赢了' )  #h\n",
    "        \n",
    "class Seeker(threading.Thread):\n",
    "    def __init__(self, cond, name):\n",
    "        super(Seeker, self).__init__()\n",
    "        self.cond = cond\n",
    "        self.name = name\n",
    "    def run(self):\n",
    "        self.cond.acquire()\n",
    "        self.cond.wait()    #a    #释放对琐的占用，同时线程挂起在这里，直到被notify并重新占有琐。\n",
    "                            #d\n",
    "        print(self.name + ': 我已经藏好了，你快来找我吧')\n",
    "        self.cond.notify()\n",
    "        self.cond.wait()    #e\n",
    "                            #h\n",
    "        self.cond.release() \n",
    "        print(self.name + ': 被你找到了，哎~~~')\n",
    "        \n",
    "cond = threading.Condition()\n",
    "seeker = Seeker(cond, 'seeker')\n",
    "hider = Hider(cond, 'hider')\n",
    "seeker.start()\n",
    "hider.start()"
   ]
  },
  {
   "cell_type": "code",
   "execution_count": null,
   "metadata": {},
   "outputs": [],
   "source": []
  }
 ],
 "metadata": {
  "kernelspec": {
   "display_name": "Python 3",
   "language": "python",
   "name": "python3"
  },
  "language_info": {
   "codemirror_mode": {
    "name": "ipython",
    "version": 3
   },
   "file_extension": ".py",
   "mimetype": "text/x-python",
   "name": "python",
   "nbconvert_exporter": "python",
   "pygments_lexer": "ipython3",
   "version": "3.7.3"
  }
 },
 "nbformat": 4,
 "nbformat_minor": 2
}
