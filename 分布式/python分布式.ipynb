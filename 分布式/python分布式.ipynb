{
 "cells": [
  {
   "cell_type": "code",
   "execution_count": null,
   "metadata": {},
   "outputs": [],
   "source": [
    "#coding:utf-8\n",
    "import time\n",
    "from multiprocessing.managers import BaseManager\n",
    "\n",
    "# 创建类似的QueueManager:\n",
    "class QueueManager(BaseManager):\n",
    "    pass\n",
    "\n",
    "\n",
    "# 第一步：使用QueueManager注册用于获取Queue的方法名称\n",
    "QueueManager.register('get_task_queue')\n",
    "QueueManager.register('get_result_queue')\n",
    "\n",
    "# 第二步：连接服务器\n",
    "server_addr = '127.0.0.1'\n",
    "print(\"Connect to server %s\" % server_addr)\n",
    "\n",
    "# 端口和验证口令注意保持与服务进程完全一致\n",
    "m = QueueManager(address=(server_addr, 4000), authkey='qty')\n",
    "\n",
    "# 从网络连接\n",
    "m.connect()\n",
    "\n",
    "# 第三步：获取Queue的对象\n",
    "task = m.get_task_queue()\n",
    "result = m.get_result_queue()\n",
    "\n",
    "# 第四步:从task队列获取任务，并把结果写入result队列:\n",
    "\n",
    "while not task.empty():\n",
    "    index = task.get(True, timeout=10)\n",
    "    print('run task download %s' % str(index))\n",
    "    result.put('%s---->success ' % str(index))\n",
    "\n",
    "# 处理结束\n",
    "print('worker exit.')"
   ]
  }
 ],
 "metadata": {
  "kernelspec": {
   "display_name": "Python 3",
   "language": "python",
   "name": "python3"
  },
  "language_info": {
   "codemirror_mode": {
    "name": "ipython",
    "version": 3
   },
   "file_extension": ".py",
   "mimetype": "text/x-python",
   "name": "python",
   "nbconvert_exporter": "python",
   "pygments_lexer": "ipython3",
   "version": "3.7.3"
  }
 },
 "nbformat": 4,
 "nbformat_minor": 2
}
