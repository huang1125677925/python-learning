{
 "cells": [
  {
   "cell_type": "code",
   "execution_count": 3,
   "metadata": {},
   "outputs": [
    {
     "ename": "TypeError",
     "evalue": "string argument without an encoding",
     "output_type": "error",
     "traceback": [
      "\u001b[0;31m---------------------------------------------------------------------------\u001b[0m",
      "\u001b[0;31mTypeError\u001b[0m                                 Traceback (most recent call last)",
      "\u001b[0;32m<ipython-input-3-87d9863c5212>\u001b[0m in \u001b[0;36m<module>\u001b[0;34m\u001b[0m\n\u001b[1;32m     66\u001b[0m     \u001b[0;31m# windows下多进程可能会出现问题，添加这句可以缓解\u001b[0m\u001b[0;34m\u001b[0m\u001b[0;34m\u001b[0m\u001b[0;34m\u001b[0m\u001b[0m\n\u001b[1;32m     67\u001b[0m     \u001b[0mfreeze_support\u001b[0m\u001b[0;34m(\u001b[0m\u001b[0;34m)\u001b[0m\u001b[0;34m\u001b[0m\u001b[0;34m\u001b[0m\u001b[0m\n\u001b[0;32m---> 68\u001b[0;31m     \u001b[0mwin_run\u001b[0m\u001b[0;34m(\u001b[0m\u001b[0;34m)\u001b[0m\u001b[0;34m\u001b[0m\u001b[0;34m\u001b[0m\u001b[0m\n\u001b[0m",
      "\u001b[0;32m<ipython-input-3-87d9863c5212>\u001b[0m in \u001b[0;36mwin_run\u001b[0;34m()\u001b[0m\n\u001b[1;32m     33\u001b[0m     \u001b[0mQueueManager\u001b[0m\u001b[0;34m.\u001b[0m\u001b[0mregister\u001b[0m\u001b[0;34m(\u001b[0m\u001b[0;34m'get_result_queue'\u001b[0m\u001b[0;34m,\u001b[0m \u001b[0mcallable\u001b[0m\u001b[0;34m=\u001b[0m\u001b[0mget_result\u001b[0m\u001b[0;34m)\u001b[0m\u001b[0;34m\u001b[0m\u001b[0;34m\u001b[0m\u001b[0m\n\u001b[1;32m     34\u001b[0m     \u001b[0;31m# 绑定端口并设置验证口令，windows下需要填写IP地址,Linux下不填，默认为本地\u001b[0m\u001b[0;34m\u001b[0m\u001b[0;34m\u001b[0m\u001b[0;34m\u001b[0m\u001b[0m\n\u001b[0;32m---> 35\u001b[0;31m     \u001b[0mmanager\u001b[0m \u001b[0;34m=\u001b[0m \u001b[0mQueueManager\u001b[0m\u001b[0;34m(\u001b[0m\u001b[0maddress\u001b[0m\u001b[0;34m=\u001b[0m\u001b[0;34m(\u001b[0m\u001b[0;34m'127.0.0.1'\u001b[0m\u001b[0;34m,\u001b[0m \u001b[0;36m4000\u001b[0m\u001b[0;34m)\u001b[0m\u001b[0;34m,\u001b[0m \u001b[0mauthkey\u001b[0m\u001b[0;34m=\u001b[0m\u001b[0;34m'qty'\u001b[0m\u001b[0;34m)\u001b[0m\u001b[0;34m\u001b[0m\u001b[0;34m\u001b[0m\u001b[0m\n\u001b[0m\u001b[1;32m     36\u001b[0m \u001b[0;34m\u001b[0m\u001b[0m\n\u001b[1;32m     37\u001b[0m     \u001b[0;31m# 启动\u001b[0m\u001b[0;34m\u001b[0m\u001b[0;34m\u001b[0m\u001b[0;34m\u001b[0m\u001b[0m\n",
      "\u001b[0;32m/usr/local/Cellar/python/3.7.3/Frameworks/Python.framework/Versions/3.7/lib/python3.7/multiprocessing/managers.py\u001b[0m in \u001b[0;36m__init__\u001b[0;34m(self, address, authkey, serializer, ctx)\u001b[0m\n\u001b[1;32m    483\u001b[0m             \u001b[0mauthkey\u001b[0m \u001b[0;34m=\u001b[0m \u001b[0mprocess\u001b[0m\u001b[0;34m.\u001b[0m\u001b[0mcurrent_process\u001b[0m\u001b[0;34m(\u001b[0m\u001b[0;34m)\u001b[0m\u001b[0;34m.\u001b[0m\u001b[0mauthkey\u001b[0m\u001b[0;34m\u001b[0m\u001b[0;34m\u001b[0m\u001b[0m\n\u001b[1;32m    484\u001b[0m         \u001b[0mself\u001b[0m\u001b[0;34m.\u001b[0m\u001b[0m_address\u001b[0m \u001b[0;34m=\u001b[0m \u001b[0maddress\u001b[0m     \u001b[0;31m# XXX not final address if eg ('', 0)\u001b[0m\u001b[0;34m\u001b[0m\u001b[0;34m\u001b[0m\u001b[0m\n\u001b[0;32m--> 485\u001b[0;31m         \u001b[0mself\u001b[0m\u001b[0;34m.\u001b[0m\u001b[0m_authkey\u001b[0m \u001b[0;34m=\u001b[0m \u001b[0mprocess\u001b[0m\u001b[0;34m.\u001b[0m\u001b[0mAuthenticationString\u001b[0m\u001b[0;34m(\u001b[0m\u001b[0mauthkey\u001b[0m\u001b[0;34m)\u001b[0m\u001b[0;34m\u001b[0m\u001b[0;34m\u001b[0m\u001b[0m\n\u001b[0m\u001b[1;32m    486\u001b[0m         \u001b[0mself\u001b[0m\u001b[0;34m.\u001b[0m\u001b[0m_state\u001b[0m \u001b[0;34m=\u001b[0m \u001b[0mState\u001b[0m\u001b[0;34m(\u001b[0m\u001b[0;34m)\u001b[0m\u001b[0;34m\u001b[0m\u001b[0;34m\u001b[0m\u001b[0m\n\u001b[1;32m    487\u001b[0m         \u001b[0mself\u001b[0m\u001b[0;34m.\u001b[0m\u001b[0m_state\u001b[0m\u001b[0;34m.\u001b[0m\u001b[0mvalue\u001b[0m \u001b[0;34m=\u001b[0m \u001b[0mState\u001b[0m\u001b[0;34m.\u001b[0m\u001b[0mINITIAL\u001b[0m\u001b[0;34m\u001b[0m\u001b[0;34m\u001b[0m\u001b[0m\n",
      "\u001b[0;31mTypeError\u001b[0m: string argument without an encoding"
     ]
    }
   ],
   "source": [
    "# coding:utf-8\n",
    "# taskManager.py for win\n",
    "\n",
    "import queue\n",
    "from multiprocessing.managers import BaseManager\n",
    "from multiprocessing import freeze_support\n",
    "\n",
    "# 任务个数\n",
    "task_num = 10\n",
    "\n",
    "# 定义收发队列\n",
    "task_queue = queue.Queue(task_num)\n",
    "result_queue = queue.Queue(task_num)\n",
    "\n",
    "\n",
    "def get_task():\n",
    "    return task_queue\n",
    "\n",
    "\n",
    "def get_result():\n",
    "    return result_queue\n",
    "\n",
    "\n",
    "# 创建类似的QueueManager\n",
    "\n",
    "class QueueManager(BaseManager):\n",
    "    pass\n",
    "\n",
    "\n",
    "def win_run():\n",
    "    # windows下绑定调用接口不能使用lambda,所以只能先定义函数再绑定\n",
    "    QueueManager.register('get_task_queue', callable=get_task)\n",
    "    QueueManager.register('get_result_queue', callable=get_result)\n",
    "    # 绑定端口并设置验证口令，windows下需要填写IP地址,Linux下不填，默认为本地\n",
    "    manager = QueueManager(address=('127.0.0.1', 4000), authkey='qty')\n",
    "\n",
    "    # 启动\n",
    "    manager.start()\n",
    "\n",
    "    # 通过网络获取任务队列和结果队列\n",
    "    task = manager.get_task_queue()\n",
    "    result = manager.get_result_queue()\n",
    "\n",
    "    try:\n",
    "\n",
    "        # 添加任务\n",
    "        for i in range(10):\n",
    "            print('put task %s...' % i)\n",
    "            task.put(i)\n",
    "        print('try get result...')\n",
    "\n",
    "        for i in range(10):\n",
    "            print('result is %s' % result.get(timeout=10))\n",
    "\n",
    "\n",
    "\n",
    "    except:\n",
    "        print('manage error')\n",
    "    finally:\n",
    "        # 一定要关闭，否则会报管理未关闭的错误\n",
    "        manager.shutdown()\n",
    "        print('master exit!')\n",
    "\n",
    "\n",
    "if __name__ == '__main__':\n",
    "    # windows下多进程可能会出现问题，添加这句可以缓解\n",
    "    freeze_support()\n",
    "    win_run()"
   ]
  },
  {
   "cell_type": "code",
   "execution_count": null,
   "metadata": {},
   "outputs": [],
   "source": []
  }
 ],
 "metadata": {
  "kernelspec": {
   "display_name": "Python 3",
   "language": "python",
   "name": "python3"
  },
  "language_info": {
   "codemirror_mode": {
    "name": "ipython",
    "version": 3
   },
   "file_extension": ".py",
   "mimetype": "text/x-python",
   "name": "python",
   "nbconvert_exporter": "python",
   "pygments_lexer": "ipython3",
   "version": "3.7.3"
  }
 },
 "nbformat": 4,
 "nbformat_minor": 2
}
