{
 "cells": [
  {
   "cell_type": "code",
   "execution_count": 1,
   "metadata": {},
   "outputs": [
    {
     "name": "stderr",
     "output_type": "stream",
     "text": [
      "Using TensorFlow backend.\n"
     ]
    }
   ],
   "source": [
    "import numpy as np\n",
    "import matplotlib.pyplot as plt\n",
    "from pandas import read_csv\n",
    "import math\n",
    "from keras.models import Sequential\n",
    "from keras.layers import Dense\n",
    "from keras.layers import LSTM\n",
    "from sklearn.preprocessing import MinMaxScaler\n",
    "from sklearn.metrics import mean_squared_error\n",
    "%matplotlib inline"
   ]
  },
  {
   "cell_type": "code",
   "execution_count": 2,
   "metadata": {},
   "outputs": [
    {
     "data": {
      "image/png": "[encoded data removed]",
      "text/plain": [
       "<Figure size 432x288 with 1 Axes>"
      ]
     },
     "metadata": {
      "needs_background": "light"
     },
     "output_type": "display_data"
    }
   ],
   "source": [
    "# load the dataset\n",
    "dataframe = read_csv('airline-passengers.csv', usecols=[1], engine='python', skipfooter=3)\n",
    "dataset = dataframe.values\n",
    "# 将整型变为float\n",
    "dataset = dataset.astype('float32')\n",
    "\n",
    "plt.plot(dataset)\n",
    "plt.show()"
   ]
  },
  {
   "cell_type": "code",
   "execution_count": 16,
   "metadata": {},
   "outputs": [
    {
     "data": {
      "text/plain": [
       "array([[0.01544401],\n",
       "       [0.02702703],\n",
       "       [0.05405405],\n",
       "       [0.04826255],\n",
       "       [0.03281853],\n",
       "       [0.05984557],\n",
       "       [0.08494207],\n",
       "       [0.08494207],\n",
       "       [0.06177607],\n",
       "       [0.02895753],\n",
       "       [0.        ],\n",
       "       [0.02702703],\n",
       "       [0.02123553],\n",
       "       [0.04247104],\n",
       "       [0.07142857],\n",
       "       [0.05984557],\n",
       "       [0.04054055],\n",
       "       [0.08687258],\n",
       "       [0.12741312],\n",
       "       [0.12741312],\n",
       "       [0.10424709],\n",
       "       [0.05598456],\n",
       "       [0.01930502],\n",
       "       [0.06949806],\n",
       "       [0.07915059],\n",
       "       [0.08880308],\n",
       "       [0.14285713],\n",
       "       [0.11389962],\n",
       "       [0.13127413],\n",
       "       [0.14285713],\n",
       "       [0.18339768],\n",
       "       [0.18339768],\n",
       "       [0.15444016],\n",
       "       [0.11196911],\n",
       "       [0.08108109],\n",
       "       [0.1196911 ],\n",
       "       [0.12934363],\n",
       "       [0.14671814],\n",
       "       [0.17181468],\n",
       "       [0.14864865],\n",
       "       [0.15250966],\n",
       "       [0.22007722],\n",
       "       [0.24324325],\n",
       "       [0.26640925],\n",
       "       [0.2027027 ],\n",
       "       [0.16795367],\n",
       "       [0.13127413],\n",
       "       [0.17374519],\n",
       "       [0.17760617],\n",
       "       [0.17760617],\n",
       "       [0.25482625],\n",
       "       [0.25289574],\n",
       "       [0.24131274],\n",
       "       [0.26833975],\n",
       "       [0.3088803 ],\n",
       "       [0.32432434],\n",
       "       [0.25675675],\n",
       "       [0.20656371],\n",
       "       [0.14671814],\n",
       "       [0.18725869],\n",
       "       [0.19305018],\n",
       "       [0.16216215],\n",
       "       [0.25289574],\n",
       "       [0.23745173],\n",
       "       [0.25096524],\n",
       "       [0.3088803 ],\n",
       "       [0.38223937],\n",
       "       [0.36486486],\n",
       "       [0.2992278 ],\n",
       "       [0.24131274],\n",
       "       [0.1911197 ],\n",
       "       [0.24131274],\n",
       "       [0.26640925],\n",
       "       [0.24903473],\n",
       "       [0.31467178],\n",
       "       [0.3185328 ],\n",
       "       [0.32046333],\n",
       "       [0.4073359 ],\n",
       "       [0.5019305 ],\n",
       "       [0.46911195],\n",
       "       [0.40154442],\n",
       "       [0.32818535],\n",
       "       [0.25675675],\n",
       "       [0.3359073 ],\n",
       "       [0.34749034],\n",
       "       [0.33397684],\n",
       "       [0.41119692],\n",
       "       [0.4034749 ],\n",
       "       [0.4131274 ],\n",
       "       [0.52123547],\n",
       "       [0.5965251 ],\n",
       "       [0.58108103],\n",
       "       [0.484556  ],\n",
       "       [0.3899614 ],\n",
       "       [0.3223938 ],\n",
       "       [0.3899614 ],\n",
       "       [0.4073359 ],\n",
       "       [0.3803089 ],\n",
       "       [0.48648646],\n",
       "       [0.47104248],\n",
       "       [0.484556  ],\n",
       "       [0.6138996 ],\n",
       "       [0.6969112 ],\n",
       "       [0.70077217],\n",
       "       [0.57915056],\n",
       "       [0.46911195],\n",
       "       [0.38803086],\n",
       "       [0.44787642],\n",
       "       [0.45559844],\n",
       "       [0.4131274 ],\n",
       "       [0.4980695 ],\n",
       "       [0.47104248],\n",
       "       [0.49999997],\n",
       "       [0.6389961 ],\n",
       "       [0.7471043 ],\n",
       "       [0.7741313 ],\n",
       "       [0.57915056],\n",
       "       [0.492278  ],\n",
       "       [0.3976834 ],\n",
       "       [0.44980696],\n",
       "       [0.49420848],\n",
       "       [0.45945945],\n",
       "       [0.5830116 ],\n",
       "       [0.5637065 ],\n",
       "       [0.61003864],\n",
       "       [0.71042466],\n",
       "       [0.8571429 ],\n",
       "       [0.8783784 ],\n",
       "       [0.69305015],\n",
       "       [0.5849421 ],\n",
       "       [0.4980695 ],\n",
       "       [0.58108103],\n",
       "       [0.6042471 ],\n",
       "       [0.554054  ],\n",
       "       [0.60810804],\n",
       "       [0.6891892 ],\n",
       "       [0.71042466],\n",
       "       [0.8320464 ],\n",
       "       [1.        ],\n",
       "       [0.96911204],\n",
       "       [0.7799227 ]], dtype=float32)"
      ]
     },
     "execution_count": 16,
     "metadata": {},
     "output_type": "execute_result"
    }
   ],
   "source": [
    "dataset"
   ]
  },
  {
   "cell_type": "code",
   "execution_count": 20,
   "metadata": {},
   "outputs": [
    {
     "data": {
      "text/plain": [
       "(100, 1)"
      ]
     },
     "execution_count": 20,
     "metadata": {},
     "output_type": "execute_result"
    }
   ],
   "source": [
    "d=[[i,] for i in range(100)]\n",
    "d=np.array(d)\n",
    "d.shape"
   ]
  },
  {
   "cell_type": "code",
   "execution_count": 6,
   "metadata": {},
   "outputs": [],
   "source": [
    "# convert an array of values into a dataset matrix\n",
    "def create_dataset(dataset, look_back=1):\n",
    "    dataX, dataY = [], []\n",
    "    for i in range(len(dataset)-look_back-1):\n",
    "        a = dataset[i:(i+look_back), 0]\n",
    "        dataX.append(a)\n",
    "        dataY.append(dataset[i + look_back, 0])\n",
    "    return numpy.array(dataX), numpy.array(dataY)\n",
    "\n",
    "# fix random seed for reproducibility\n",
    "np.random.seed(7)"
   ]
  },
  {
   "cell_type": "code",
   "execution_count": 9,
   "metadata": {},
   "outputs": [],
   "source": [
    "import numpy"
   ]
  },
  {
   "cell_type": "code",
   "execution_count": 10,
   "metadata": {},
   "outputs": [],
   "source": [
    "# normalize the dataset\n",
    "scaler = MinMaxScaler(feature_range=(0, 1))\n",
    "dataset = scaler.fit_transform(dataset)\n",
    "\n",
    "\n",
    "# split into train and test sets\n",
    "train_size = int(len(dataset) * 0.67)\n",
    "test_size = len(dataset) - train_size\n",
    "train, test = dataset[0:train_size,:], dataset[train_size:len(dataset),:]"
   ]
  },
  {
   "cell_type": "code",
   "execution_count": 11,
   "metadata": {},
   "outputs": [],
   "source": [
    "# use this function to prepare the train and test datasets for modeling\n",
    "look_back = 3\n",
    "trainX, trainY = create_dataset(train, look_back)\n",
    "testX, testY = create_dataset(test, look_back)"
   ]
  },
  {
   "cell_type": "code",
   "execution_count": 15,
   "metadata": {},
   "outputs": [
    {
     "data": {
      "text/plain": [
       "(90, 3)"
      ]
     },
     "execution_count": 15,
     "metadata": {},
     "output_type": "execute_result"
    }
   ],
   "source": [
    "trainX.shape"
   ]
  },
  {
   "cell_type": "code",
   "execution_count": 26,
   "metadata": {},
   "outputs": [],
   "source": [
    "# reshape input to be [samples, time steps, features]\n",
    "trainX = numpy.reshape(trainX, (trainX.shape[0], 1, trainX.shape[1]))\n",
    "testX = numpy.reshape(testX, (testX.shape[0], 1, testX.shape[1]))"
   ]
  },
  {
   "cell_type": "code",
   "execution_count": 27,
   "metadata": {},
   "outputs": [
    {
     "name": "stdout",
     "output_type": "stream",
     "text": [
      "WARNING:tensorflow:From /usr/local/lib/python3.7/site-packages/tensorflow/python/framework/op_def_library.py:263: colocate_with (from tensorflow.python.framework.ops) is deprecated and will be removed in a future version.\n",
      "Instructions for updating:\n",
      "Colocations handled automatically by placer.\n",
      "WARNING:tensorflow:From /usr/local/lib/python3.7/site-packages/tensorflow/python/ops/math_ops.py:3066: to_int32 (from tensorflow.python.ops.math_ops) is deprecated and will be removed in a future version.\n",
      "Instructions for updating:\n",
      "Use tf.cast instead.\n",
      "Epoch 1/100\n",
      " - 1s - loss: 0.0548\n",
      "Epoch 2/100\n",
      " - 0s - loss: 0.0265\n",
      "Epoch 3/100\n",
      " - 0s - loss: 0.0169\n",
      "Epoch 4/100\n",
      " - 0s - loss: 0.0145\n",
      "Epoch 5/100\n",
      " - 0s - loss: 0.0131\n",
      "Epoch 6/100\n",
      " - 0s - loss: 0.0118\n",
      "Epoch 7/100\n",
      " - 0s - loss: 0.0106\n",
      "Epoch 8/100\n",
      " - 0s - loss: 0.0094\n",
      "Epoch 9/100\n",
      " - 0s - loss: 0.0083\n",
      "Epoch 10/100\n",
      " - 0s - loss: 0.0075\n",
      "Epoch 11/100\n",
      " - 0s - loss: 0.0066\n",
      "Epoch 12/100\n",
      " - 0s - loss: 0.0059\n",
      "Epoch 13/100\n",
      " - 0s - loss: 0.0053\n",
      "Epoch 14/100\n",
      " - 0s - loss: 0.0049\n",
      "Epoch 15/100\n",
      " - 0s - loss: 0.0045\n",
      "Epoch 16/100\n",
      " - 0s - loss: 0.0043\n",
      "Epoch 17/100\n",
      " - 0s - loss: 0.0041\n",
      "Epoch 18/100\n",
      " - 0s - loss: 0.0040\n",
      "Epoch 19/100\n",
      " - 0s - loss: 0.0038\n",
      "Epoch 20/100\n",
      " - 0s - loss: 0.0038\n",
      "Epoch 21/100\n",
      " - 0s - loss: 0.0038\n",
      "Epoch 22/100\n",
      " - 0s - loss: 0.0037\n",
      "Epoch 23/100\n",
      " - 0s - loss: 0.0038\n",
      "Epoch 24/100\n",
      " - 0s - loss: 0.0036\n",
      "Epoch 25/100\n",
      " - 0s - loss: 0.0036\n",
      "Epoch 26/100\n",
      " - 0s - loss: 0.0036\n",
      "Epoch 27/100\n",
      " - 0s - loss: 0.0035\n",
      "Epoch 28/100\n",
      " - 0s - loss: 0.0035\n",
      "Epoch 29/100\n",
      " - 0s - loss: 0.0035\n",
      "Epoch 30/100\n",
      " - 0s - loss: 0.0035\n",
      "Epoch 31/100\n",
      " - 0s - loss: 0.0035\n",
      "Epoch 32/100\n",
      " - 0s - loss: 0.0033\n",
      "Epoch 33/100\n",
      " - 0s - loss: 0.0033\n",
      "Epoch 34/100\n",
      " - 0s - loss: 0.0033\n",
      "Epoch 35/100\n",
      " - 0s - loss: 0.0032\n",
      "Epoch 36/100\n",
      " - 0s - loss: 0.0033\n",
      "Epoch 37/100\n",
      " - 0s - loss: 0.0032\n",
      "Epoch 38/100\n",
      " - 0s - loss: 0.0032\n",
      "Epoch 39/100\n",
      " - 0s - loss: 0.0031\n",
      "Epoch 40/100\n",
      " - 0s - loss: 0.0032\n",
      "Epoch 41/100\n",
      " - 0s - loss: 0.0031\n",
      "Epoch 42/100\n",
      " - 0s - loss: 0.0031\n",
      "Epoch 43/100\n",
      " - 0s - loss: 0.0031\n",
      "Epoch 44/100\n",
      " - 0s - loss: 0.0031\n",
      "Epoch 45/100\n",
      " - 0s - loss: 0.0030\n",
      "Epoch 46/100\n",
      " - 0s - loss: 0.0029\n",
      "Epoch 47/100\n",
      " - 0s - loss: 0.0030\n",
      "Epoch 48/100\n",
      " - 0s - loss: 0.0029\n",
      "Epoch 49/100\n",
      " - 0s - loss: 0.0029\n",
      "Epoch 50/100\n",
      " - 0s - loss: 0.0029\n",
      "Epoch 51/100\n",
      " - 0s - loss: 0.0029\n",
      "Epoch 52/100\n",
      " - 0s - loss: 0.0029\n",
      "Epoch 53/100\n",
      " - 0s - loss: 0.0029\n",
      "Epoch 54/100\n",
      " - 0s - loss: 0.0029\n",
      "Epoch 55/100\n",
      " - 0s - loss: 0.0028\n",
      "Epoch 56/100\n",
      " - 0s - loss: 0.0028\n",
      "Epoch 57/100\n",
      " - 0s - loss: 0.0027\n",
      "Epoch 58/100\n",
      " - 0s - loss: 0.0029\n",
      "Epoch 59/100\n",
      " - 0s - loss: 0.0027\n",
      "Epoch 60/100\n",
      " - 0s - loss: 0.0027\n",
      "Epoch 61/100\n",
      " - 0s - loss: 0.0027\n",
      "Epoch 62/100\n",
      " - 0s - loss: 0.0028\n",
      "Epoch 63/100\n",
      " - 0s - loss: 0.0026\n",
      "Epoch 64/100\n",
      " - 0s - loss: 0.0026\n",
      "Epoch 65/100\n",
      " - 0s - loss: 0.0026\n",
      "Epoch 66/100\n",
      " - 0s - loss: 0.0025\n",
      "Epoch 67/100\n",
      " - 0s - loss: 0.0025\n",
      "Epoch 68/100\n",
      " - 0s - loss: 0.0025\n",
      "Epoch 69/100\n",
      " - 0s - loss: 0.0025\n",
      "Epoch 70/100\n",
      " - 0s - loss: 0.0025\n",
      "Epoch 71/100\n",
      " - 0s - loss: 0.0024\n",
      "Epoch 72/100\n",
      " - 0s - loss: 0.0027\n",
      "Epoch 73/100\n",
      " - 0s - loss: 0.0026\n",
      "Epoch 74/100\n",
      " - 0s - loss: 0.0025\n",
      "Epoch 75/100\n",
      " - 0s - loss: 0.0025\n",
      "Epoch 76/100\n",
      " - 0s - loss: 0.0023\n",
      "Epoch 77/100\n",
      " - 0s - loss: 0.0024\n",
      "Epoch 78/100\n",
      " - 0s - loss: 0.0024\n",
      "Epoch 79/100\n",
      " - 0s - loss: 0.0024\n",
      "Epoch 80/100\n",
      " - 0s - loss: 0.0023\n",
      "Epoch 81/100\n",
      " - 0s - loss: 0.0025\n",
      "Epoch 82/100\n",
      " - 0s - loss: 0.0024\n",
      "Epoch 83/100\n",
      " - 0s - loss: 0.0024\n",
      "Epoch 84/100\n",
      " - 0s - loss: 0.0023\n",
      "Epoch 85/100\n",
      " - 0s - loss: 0.0022\n",
      "Epoch 86/100\n",
      " - 0s - loss: 0.0023\n",
      "Epoch 87/100\n",
      " - 0s - loss: 0.0023\n",
      "Epoch 88/100\n",
      " - 0s - loss: 0.0023\n",
      "Epoch 89/100\n",
      " - 0s - loss: 0.0023\n",
      "Epoch 90/100\n",
      " - 0s - loss: 0.0022\n",
      "Epoch 91/100\n",
      " - 0s - loss: 0.0023\n",
      "Epoch 92/100\n",
      " - 0s - loss: 0.0023\n",
      "Epoch 93/100\n",
      " - 0s - loss: 0.0023\n",
      "Epoch 94/100\n",
      " - 0s - loss: 0.0023\n",
      "Epoch 95/100\n",
      " - 0s - loss: 0.0022\n",
      "Epoch 96/100\n",
      " - 0s - loss: 0.0021\n",
      "Epoch 97/100\n",
      " - 0s - loss: 0.0021\n",
      "Epoch 98/100\n",
      " - 0s - loss: 0.0023\n",
      "Epoch 99/100\n",
      " - 0s - loss: 0.0022\n",
      "Epoch 100/100\n",
      " - 0s - loss: 0.0023\n"
     ]
    },
    {
     "data": {
      "text/plain": [
       "<keras.callbacks.History at 0x12be5c2e8>"
      ]
     },
     "execution_count": 27,
     "metadata": {},
     "output_type": "execute_result"
    }
   ],
   "source": [
    "# create and fit the LSTM network\n",
    "model = Sequential()\n",
    "model.add(LSTM(4, input_shape=(1, look_back)))\n",
    "model.add(Dense(1))\n",
    "model.compile(loss='mean_squared_error', optimizer='adam')\n",
    "model.fit(trainX, trainY, epochs=100, batch_size=1, verbose=2)"
   ]
  },
  {
   "cell_type": "code",
   "execution_count": 28,
   "metadata": {},
   "outputs": [],
   "source": [
    "# make predictions\n",
    "trainPredict = model.predict(trainX)\n",
    "testPredict = model.predict(testX)"
   ]
  },
  {
   "cell_type": "code",
   "execution_count": 32,
   "metadata": {},
   "outputs": [
    {
     "data": {
      "text/plain": [
       "array([[313.9788 ],\n",
       "       [301.127  ],\n",
       "       [347.7548 ],\n",
       "       [350.116  ],\n",
       "       [351.99667],\n",
       "       [413.52948],\n",
       "       [461.82584],\n",
       "       [466.02765],\n",
       "       [405.9645 ],\n",
       "       [343.8552 ],\n",
       "       [302.60883],\n",
       "       [328.56097],\n",
       "       [339.55527],\n",
       "       [318.5744 ],\n",
       "       [354.48657],\n",
       "       [350.21857],\n",
       "       [358.8109 ],\n",
       "       [426.29706],\n",
       "       [486.0504 ],\n",
       "       [502.30984],\n",
       "       [409.02036],\n",
       "       [350.55185],\n",
       "       [309.052  ],\n",
       "       [329.44092],\n",
       "       [357.38947],\n",
       "       [343.39188],\n",
       "       [396.51807],\n",
       "       [399.02982],\n",
       "       [414.5389 ],\n",
       "       [465.1508 ],\n",
       "       [537.306  ],\n",
       "       [554.39825],\n",
       "       [463.23245],\n",
       "       [396.71942],\n",
       "       [358.4848 ],\n",
       "       [395.5194 ],\n",
       "       [416.4199 ],\n",
       "       [391.9187 ],\n",
       "       [411.93756],\n",
       "       [455.69626],\n",
       "       [470.0324 ],\n",
       "       [522.8971 ],\n",
       "       [605.2282 ]], dtype=float32)"
      ]
     },
     "execution_count": 32,
     "metadata": {},
     "output_type": "execute_result"
    }
   ],
   "source": [
    "testPredict"
   ]
  },
  {
   "cell_type": "code",
   "execution_count": 29,
   "metadata": {},
   "outputs": [],
   "source": [
    "# invert predictions\n",
    "trainPredict = scaler.inverse_transform(trainPredict)\n",
    "trainY = scaler.inverse_transform([trainY])\n",
    "testPredict = scaler.inverse_transform(testPredict)\n",
    "testY = scaler.inverse_transform([testY])"
   ]
  },
  {
   "cell_type": "code",
   "execution_count": 30,
   "metadata": {},
   "outputs": [
    {
     "name": "stdout",
     "output_type": "stream",
     "text": [
      "Train Score: 23.50 RMSE\n",
      "Test Score: 47.73 RMSE\n"
     ]
    }
   ],
   "source": [
    "trainScore = math.sqrt(mean_squared_error(trainY[0], trainPredict[:,0]))\n",
    "print('Train Score: %.2f RMSE' % (trainScore))\n",
    "testScore = math.sqrt(mean_squared_error(testY[0], testPredict[:,0]))\n",
    "print('Test Score: %.2f RMSE' % (testScore))"
   ]
  },
  {
   "cell_type": "markdown",
   "metadata": {},
   "source": [
    "### Train Score: 22.34 RMSE\n",
    "Test Score: 45.66 RMSE\n",
    "\n",
    "当使用窗口长度为2的时候\n",
    "Train Score: 0.04 RMSE\n",
    "Test Score: 0.08 RMSE"
   ]
  },
  {
   "cell_type": "code",
   "execution_count": 54,
   "metadata": {},
   "outputs": [
    {
     "data": {
      "image/png": "[encoded data removed]",
      "text/plain": [
       "<Figure size 432x288 with 1 Axes>"
      ]
     },
     "metadata": {
      "needs_background": "light"
     },
     "output_type": "display_data"
    }
   ],
   "source": [
    "# shift train predictions for plotting\n",
    "trainPredictPlot = numpy.empty_like(dataset)\n",
    "trainPredictPlot[:, :] = numpy.nan\n",
    "trainPredictPlot[look_back:len(trainPredict)+look_back, :] = trainPredict\n",
    "\n",
    "# shift test predictions for plotting\n",
    "testPredictPlot = numpy.empty_like(dataset)\n",
    "testPredictPlot[:, :] = numpy.nan\n",
    "testPredictPlot[len(trainPredict)+(look_back*2)+1:len(dataset)-1, :] = testPredict\n",
    "\n",
    "# plot baseline and predictions\n",
    "plt.plot(scaler.inverse_transform(dataset))\n",
    "plt.plot(trainPredictPlot)\n",
    "plt.plot(testPredictPlot)\n",
    "plt.show()"
   ]
  },
  {
   "cell_type": "code",
   "execution_count": null,
   "metadata": {},
   "outputs": [],
   "source": []
  }
 ],
 "metadata": {
  "kernelspec": {
   "display_name": "Python 3",
   "language": "python",
   "name": "python3"
  },
  "language_info": {
   "codemirror_mode": {
    "name": "ipython",
    "version": 3
   },
   "file_extension": ".py",
   "mimetype": "text/x-python",
   "name": "python",
   "nbconvert_exporter": "python",
   "pygments_lexer": "ipython3",
   "version": "3.7.3"
  }
 },
 "nbformat": 4,
 "nbformat_minor": 2
}
