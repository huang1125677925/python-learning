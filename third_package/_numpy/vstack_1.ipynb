{
  "cells": [
    {
      "cell_type": "code",
      "execution_count": 1,
      "metadata": {
        "collapsed": true,
        "pycharm": {
          "is_executing": false
        }
      },
      "outputs": [
        {
          "data": {
            "text/plain": "array([[1, 2, 3],\n       [2, 3, 4]])"
          },
          "metadata": {},
          "output_type": "execute_result",
          "execution_count": 1
        }
      ],
      "source": "import numpy as np\na \u003d np.array([1, 2, 3])\nb \u003d np.array([2, 3, 4])\nnp.vstack((a,b))"
    },
    {
      "cell_type": "code",
      "execution_count": 2,
      "outputs": [
        {
          "data": {
            "text/plain": "array([[1],\n       [2],\n       [3],\n       [2],\n       [3],\n       [4]])"
          },
          "metadata": {},
          "output_type": "execute_result",
          "execution_count": 2
        }
      ],
      "source": "a \u003d np.array([[1], [2], [3]])\nb \u003d np.array([[2], [3], [4]])\nnp.vstack((a,b))\n\n",
      "metadata": {
        "pycharm": {
          "metadata": false,
          "name": "#%%\n",
          "is_executing": false
        }
      }
    },
    {
      "cell_type": "code",
      "execution_count": 3,
      "outputs": [
        {
          "data": {
            "text/plain": "array([1, 2, 3, 2, 3, 4])"
          },
          "metadata": {},
          "output_type": "execute_result",
          "execution_count": 3
        }
      ],
      "source": "a \u003d np.array((1,2,3))\nb \u003d np.array((2,3,4))\nnp.hstack((a,b))",
      "metadata": {
        "pycharm": {
          "metadata": false,
          "name": "#%%\n",
          "is_executing": false
        }
      }
    },
    {
      "cell_type": "code",
      "execution_count": 4,
      "outputs": [
        {
          "data": {
            "text/plain": "array([[1, 2],\n       [2, 3],\n       [3, 4]])"
          },
          "metadata": {},
          "output_type": "execute_result",
          "execution_count": 4
        }
      ],
      "source": "\na \u003d np.array([[1],[2],[3]])\nb \u003d np.array([[2],[3],[4]])\nnp.hstack((a,b))",
      "metadata": {
        "pycharm": {
          "metadata": false,
          "name": "#%%\n",
          "is_executing": false
        }
      }
    },
    {
      "cell_type": "code",
      "execution_count": 5,
      "outputs": [
        {
          "data": {
            "text/plain": "array([[[1, 2],\n        [2, 3],\n        [3, 4]]])"
          },
          "metadata": {},
          "output_type": "execute_result",
          "execution_count": 5
        }
      ],
      "source": "\na \u003d np.array((1,2,3))\nb \u003d np.array((2,3,4))\nnp.dstack((a,b))",
      "metadata": {
        "pycharm": {
          "metadata": false,
          "name": "#%%\n",
          "is_executing": false
        }
      }
    },
    {
      "cell_type": "code",
      "execution_count": 6,
      "outputs": [
        {
          "data": {
            "text/plain": "(array([2.  , 2.25, 2.5 , 2.75, 3.  ]), 0.25)"
          },
          "metadata": {},
          "output_type": "execute_result",
          "execution_count": 6
        }
      ],
      "source": "\nnp.linspace(2.0, 3.0, num\u003d5)\n\nnp.linspace(2.0, 3.0, num\u003d5, endpoint\u003dFalse)\n\nnp.linspace(2.0, 3.0, num\u003d5, retstep\u003dTrue)\n",
      "metadata": {
        "pycharm": {
          "metadata": false,
          "name": "#%%\n",
          "is_executing": false
        }
      }
    },
    {
      "cell_type": "code",
      "execution_count": 11,
      "outputs": [
        {
          "data": {
            "text/plain": "\u003cFigure size 432x288 with 1 Axes\u003e",
            "image/png": "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\u003d\n"
          },
          "metadata": {
            "needs_background": "light"
          },
          "output_type": "display_data"
        }
      ],
      "source": "import matplotlib.pyplot as plt\nN \u003d 8\ny \u003d np.zeros(N)\nx1 \u003d np.linspace(0, 10, N, endpoint\u003dTrue)\nx2 \u003d np.linspace(0, 10, N, endpoint\u003dFalse)\nplt.plot(x1, y, \u0027o\u0027)\n\nplt.plot(x2, y + 0.5, \u0027o\u0027)\n\nplt.ylim([-0.5, 1])\n\nplt.show()",
      "metadata": {
        "pycharm": {
          "metadata": false,
          "name": "#%%\n",
          "is_executing": false
        }
      }
    },
    {
      "cell_type": "code",
      "execution_count": 12,
      "outputs": [
        {
          "data": {
            "text/plain": "True"
          },
          "metadata": {},
          "output_type": "execute_result",
          "execution_count": 12
        }
      ],
      "source": "\n\ns \u003d np.random.uniform(-1,0,1000)\n\nnp.all(s\u003e-1)\n",
      "metadata": {
        "pycharm": {
          "metadata": false,
          "name": "#%%\n",
          "is_executing": false
        }
      }
    },
    {
      "cell_type": "code",
      "execution_count": 13,
      "outputs": [
        {
          "data": {
            "text/plain": "True"
          },
          "metadata": {},
          "output_type": "execute_result",
          "execution_count": 13
        }
      ],
      "source": "np.all(s\u003c0)",
      "metadata": {
        "pycharm": {
          "metadata": false,
          "name": "#%%\n",
          "is_executing": false
        }
      }
    },
    {
      "cell_type": "code",
      "execution_count": 17,
      "outputs": [
        {
          "data": {
            "text/plain": "True"
          },
          "metadata": {},
          "output_type": "execute_result",
          "execution_count": 17
        }
      ],
      "source": "np.newaxis is None",
      "metadata": {
        "pycharm": {
          "metadata": false,
          "name": "#%%\n",
          "is_executing": false
        }
      }
    },
    {
      "cell_type": "code",
      "execution_count": 22,
      "outputs": [
        {
          "data": {
            "text/plain": "array([1.41953066, 1.17328575, 1.06392049, 1.4282507 , 1.44049046,\n       1.54749002, 1.21353188, 1.14742566, 1.80164342, 1.19330022,\n       1.70408007, 1.76832671, 1.0140187 , 1.29114936, 1.67985084,\n       1.20535268, 1.40475623, 1.21828987, 1.96592956, 1.74293731,\n       1.21206767, 1.64647257, 1.4780405 , 1.24942757, 1.41521533,\n       1.32292159, 1.9517158 , 1.04375032, 1.51016489, 1.25903323,\n       1.37287803, 1.34779274, 1.14377145, 1.55123754, 1.89166621,\n       1.5380639 , 1.91218902, 1.11505992, 1.40165502, 1.78748689,\n       1.27804673, 1.83643295, 1.9092512 , 1.9764846 , 1.21756355,\n       1.18858603, 1.66145379, 1.72815122, 1.80873366, 1.78860541,\n       1.12820826, 1.32119579, 1.11726353, 1.20069279, 1.88057855,\n       1.38247229, 1.41948025, 1.16225746, 1.38045571, 1.35740358,\n       1.47121996, 1.9844741 , 1.43148468, 1.88527443])"
          },
          "metadata": {},
          "output_type": "execute_result",
          "execution_count": 22
        }
      ],
      "source": "np.random.uniform(1, 2, size\u003d64)",
      "metadata": {
        "pycharm": {
          "metadata": false,
          "name": "#%%\n",
          "is_executing": false
        }
      }
    },
    {
      "cell_type": "code",
      "execution_count": null,
      "outputs": [],
      "source": "\n",
      "metadata": {
        "pycharm": {
          "metadata": false,
          "name": "#%%\n"
        }
      }
    }
  ],
  "metadata": {
    "language_info": {
      "codemirror_mode": {
        "name": "ipython",
        "version": 2
      },
      "file_extension": ".py",
      "mimetype": "text/x-python",
      "name": "python",
      "nbconvert_exporter": "python",
      "pygments_lexer": "ipython2",
      "version": "2.7.6"
    },
    "kernelspec": {
      "name": "python3",
      "language": "python",
      "display_name": "Python 3"
    }
  },
  "nbformat": 4,
  "nbformat_minor": 0
}