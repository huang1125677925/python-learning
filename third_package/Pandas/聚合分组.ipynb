{
  "cells": [
    {
      "cell_type": "code",
      "execution_count": 1,
      "metadata": {
        "collapsed": true,
        "pycharm": {
          "is_executing": false
        }
      },
      "outputs": [
        {
          "data": {
            "text/plain": "               a         b         c         d         e\nJoe    -1.277809  1.233470 -0.497953 -0.718626  0.534880\nSteve  -0.901337 -0.601943  0.774169 -0.170366  1.280813\nWes    -0.136485  0.864410 -1.408846 -0.403561 -2.769534\nJim    -0.343799  0.303252  1.282155  0.349884  0.433447\nTravis -0.938599 -0.124627  1.323936  0.141379 -0.355108",
            "text/html": "\u003cdiv\u003e\n\u003cstyle scoped\u003e\n    .dataframe tbody tr th:only-of-type {\n        vertical-align: middle;\n    }\n\n    .dataframe tbody tr th {\n        vertical-align: top;\n    }\n\n    .dataframe thead th {\n        text-align: right;\n    }\n\u003c/style\u003e\n\u003ctable border\u003d\"1\" class\u003d\"dataframe\"\u003e\n  \u003cthead\u003e\n    \u003ctr style\u003d\"text-align: right;\"\u003e\n      \u003cth\u003e\u003c/th\u003e\n      \u003cth\u003ea\u003c/th\u003e\n      \u003cth\u003eb\u003c/th\u003e\n      \u003cth\u003ec\u003c/th\u003e\n      \u003cth\u003ed\u003c/th\u003e\n      \u003cth\u003ee\u003c/th\u003e\n    \u003c/tr\u003e\n  \u003c/thead\u003e\n  \u003ctbody\u003e\n    \u003ctr\u003e\n      \u003cth\u003eJoe\u003c/th\u003e\n      \u003ctd\u003e-1.277809\u003c/td\u003e\n      \u003ctd\u003e1.233470\u003c/td\u003e\n      \u003ctd\u003e-0.497953\u003c/td\u003e\n      \u003ctd\u003e-0.718626\u003c/td\u003e\n      \u003ctd\u003e0.534880\u003c/td\u003e\n    \u003c/tr\u003e\n    \u003ctr\u003e\n      \u003cth\u003eSteve\u003c/th\u003e\n      \u003ctd\u003e-0.901337\u003c/td\u003e\n      \u003ctd\u003e-0.601943\u003c/td\u003e\n      \u003ctd\u003e0.774169\u003c/td\u003e\n      \u003ctd\u003e-0.170366\u003c/td\u003e\n      \u003ctd\u003e1.280813\u003c/td\u003e\n    \u003c/tr\u003e\n    \u003ctr\u003e\n      \u003cth\u003eWes\u003c/th\u003e\n      \u003ctd\u003e-0.136485\u003c/td\u003e\n      \u003ctd\u003e0.864410\u003c/td\u003e\n      \u003ctd\u003e-1.408846\u003c/td\u003e\n      \u003ctd\u003e-0.403561\u003c/td\u003e\n      \u003ctd\u003e-2.769534\u003c/td\u003e\n    \u003c/tr\u003e\n    \u003ctr\u003e\n      \u003cth\u003eJim\u003c/th\u003e\n      \u003ctd\u003e-0.343799\u003c/td\u003e\n      \u003ctd\u003e0.303252\u003c/td\u003e\n      \u003ctd\u003e1.282155\u003c/td\u003e\n      \u003ctd\u003e0.349884\u003c/td\u003e\n      \u003ctd\u003e0.433447\u003c/td\u003e\n    \u003c/tr\u003e\n    \u003ctr\u003e\n      \u003cth\u003eTravis\u003c/th\u003e\n      \u003ctd\u003e-0.938599\u003c/td\u003e\n      \u003ctd\u003e-0.124627\u003c/td\u003e\n      \u003ctd\u003e1.323936\u003c/td\u003e\n      \u003ctd\u003e0.141379\u003c/td\u003e\n      \u003ctd\u003e-0.355108\u003c/td\u003e\n    \u003c/tr\u003e\n  \u003c/tbody\u003e\n\u003c/table\u003e\n\u003c/div\u003e"
          },
          "metadata": {},
          "output_type": "execute_result",
          "execution_count": 1
        }
      ],
      "source": "import numpy as np\nimport pandas as pd\npeople\u003dpd.DataFrame(np.random.randn(5,5),\n                   columns\u003dlist(\u0027abcde\u0027),\n                   index\u003d[\u0027Joe\u0027,\u0027Steve\u0027,\u0027Wes\u0027,\u0027Jim\u0027,\u0027Travis\u0027])\n\npeople\n\n\n\n"
    },
    {
      "cell_type": "code",
      "execution_count": 2,
      "outputs": [
        {
          "data": {
            "text/plain": "            a         b         c         d         e\none -0.784298  0.657751 -0.194288 -0.326936 -0.863254\ntwo -0.622568 -0.149345  1.028162  0.089759  0.857130",
            "text/html": "\u003cdiv\u003e\n\u003cstyle scoped\u003e\n    .dataframe tbody tr th:only-of-type {\n        vertical-align: middle;\n    }\n\n    .dataframe tbody tr th {\n        vertical-align: top;\n    }\n\n    .dataframe thead th {\n        text-align: right;\n    }\n\u003c/style\u003e\n\u003ctable border\u003d\"1\" class\u003d\"dataframe\"\u003e\n  \u003cthead\u003e\n    \u003ctr style\u003d\"text-align: right;\"\u003e\n      \u003cth\u003e\u003c/th\u003e\n      \u003cth\u003ea\u003c/th\u003e\n      \u003cth\u003eb\u003c/th\u003e\n      \u003cth\u003ec\u003c/th\u003e\n      \u003cth\u003ed\u003c/th\u003e\n      \u003cth\u003ee\u003c/th\u003e\n    \u003c/tr\u003e\n  \u003c/thead\u003e\n  \u003ctbody\u003e\n    \u003ctr\u003e\n      \u003cth\u003eone\u003c/th\u003e\n      \u003ctd\u003e-0.784298\u003c/td\u003e\n      \u003ctd\u003e0.657751\u003c/td\u003e\n      \u003ctd\u003e-0.194288\u003c/td\u003e\n      \u003ctd\u003e-0.326936\u003c/td\u003e\n      \u003ctd\u003e-0.863254\u003c/td\u003e\n    \u003c/tr\u003e\n    \u003ctr\u003e\n      \u003cth\u003etwo\u003c/th\u003e\n      \u003ctd\u003e-0.622568\u003c/td\u003e\n      \u003ctd\u003e-0.149345\u003c/td\u003e\n      \u003ctd\u003e1.028162\u003c/td\u003e\n      \u003ctd\u003e0.089759\u003c/td\u003e\n      \u003ctd\u003e0.857130\u003c/td\u003e\n    \u003c/tr\u003e\n  \u003c/tbody\u003e\n\u003c/table\u003e\n\u003c/div\u003e"
          },
          "metadata": {},
          "output_type": "execute_result",
          "execution_count": 2
        }
      ],
      "source": "key\u003d[\u0027one\u0027,\u0027two\u0027,\u0027one\u0027,\u0027two\u0027,\u0027one\u0027]\npeople.groupby(key).mean()",
      "metadata": {
        "pycharm": {
          "metadata": false,
          "name": "#%%\n",
          "is_executing": false
        }
      }
    },
    {
      "cell_type": "code",
      "execution_count": 3,
      "outputs": [
        {
          "data": {
            "text/plain": "               a         b         c         d         e\nJoe    -0.784298  0.657751 -0.194288 -0.326936 -0.863254\nSteve  -0.622568 -0.149345  1.028162  0.089759  0.857130\nWes    -0.784298  0.657751 -0.194288 -0.326936 -0.863254\nJim    -0.622568 -0.149345  1.028162  0.089759  0.857130\nTravis -0.784298  0.657751 -0.194288 -0.326936 -0.863254",
            "text/html": "\u003cdiv\u003e\n\u003cstyle scoped\u003e\n    .dataframe tbody tr th:only-of-type {\n        vertical-align: middle;\n    }\n\n    .dataframe tbody tr th {\n        vertical-align: top;\n    }\n\n    .dataframe thead th {\n        text-align: right;\n    }\n\u003c/style\u003e\n\u003ctable border\u003d\"1\" class\u003d\"dataframe\"\u003e\n  \u003cthead\u003e\n    \u003ctr style\u003d\"text-align: right;\"\u003e\n      \u003cth\u003e\u003c/th\u003e\n      \u003cth\u003ea\u003c/th\u003e\n      \u003cth\u003eb\u003c/th\u003e\n      \u003cth\u003ec\u003c/th\u003e\n      \u003cth\u003ed\u003c/th\u003e\n      \u003cth\u003ee\u003c/th\u003e\n    \u003c/tr\u003e\n  \u003c/thead\u003e\n  \u003ctbody\u003e\n    \u003ctr\u003e\n      \u003cth\u003eJoe\u003c/th\u003e\n      \u003ctd\u003e-0.784298\u003c/td\u003e\n      \u003ctd\u003e0.657751\u003c/td\u003e\n      \u003ctd\u003e-0.194288\u003c/td\u003e\n      \u003ctd\u003e-0.326936\u003c/td\u003e\n      \u003ctd\u003e-0.863254\u003c/td\u003e\n    \u003c/tr\u003e\n    \u003ctr\u003e\n      \u003cth\u003eSteve\u003c/th\u003e\n      \u003ctd\u003e-0.622568\u003c/td\u003e\n      \u003ctd\u003e-0.149345\u003c/td\u003e\n      \u003ctd\u003e1.028162\u003c/td\u003e\n      \u003ctd\u003e0.089759\u003c/td\u003e\n      \u003ctd\u003e0.857130\u003c/td\u003e\n    \u003c/tr\u003e\n    \u003ctr\u003e\n      \u003cth\u003eWes\u003c/th\u003e\n      \u003ctd\u003e-0.784298\u003c/td\u003e\n      \u003ctd\u003e0.657751\u003c/td\u003e\n      \u003ctd\u003e-0.194288\u003c/td\u003e\n      \u003ctd\u003e-0.326936\u003c/td\u003e\n      \u003ctd\u003e-0.863254\u003c/td\u003e\n    \u003c/tr\u003e\n    \u003ctr\u003e\n      \u003cth\u003eJim\u003c/th\u003e\n      \u003ctd\u003e-0.622568\u003c/td\u003e\n      \u003ctd\u003e-0.149345\u003c/td\u003e\n      \u003ctd\u003e1.028162\u003c/td\u003e\n      \u003ctd\u003e0.089759\u003c/td\u003e\n      \u003ctd\u003e0.857130\u003c/td\u003e\n    \u003c/tr\u003e\n    \u003ctr\u003e\n      \u003cth\u003eTravis\u003c/th\u003e\n      \u003ctd\u003e-0.784298\u003c/td\u003e\n      \u003ctd\u003e0.657751\u003c/td\u003e\n      \u003ctd\u003e-0.194288\u003c/td\u003e\n      \u003ctd\u003e-0.326936\u003c/td\u003e\n      \u003ctd\u003e-0.863254\u003c/td\u003e\n    \u003c/tr\u003e\n  \u003c/tbody\u003e\n\u003c/table\u003e\n\u003c/div\u003e"
          },
          "metadata": {},
          "output_type": "execute_result",
          "execution_count": 3
        }
      ],
      "source": "people.groupby(key).transform(np.mean)",
      "metadata": {
        "pycharm": {
          "metadata": false,
          "name": "#%%\n",
          "is_executing": false
        }
      }
    },
    {
      "cell_type": "code",
      "execution_count": 4,
      "outputs": [
        {
          "data": {
            "text/plain": "                   A         B         C\n2000-01-01  0.202048  1.063788  1.870031\n2000-01-02  1.521089  0.970958 -0.537112\n2000-01-03  0.500468 -0.344368 -0.255157\n2000-01-04  0.409489 -1.543679 -2.289737\n2000-01-05 -0.049439 -0.181520  0.295951\n2000-01-06  1.290732 -1.118746 -1.203134\n2000-01-07 -1.331605 -1.215908 -0.186490\n2000-01-08 -1.196100 -0.488757 -0.284695\n2000-01-09  1.909174  0.046560  0.015226\n2000-01-10 -0.091435  0.161253  1.154713",
            "text/html": "\u003cdiv\u003e\n\u003cstyle scoped\u003e\n    .dataframe tbody tr th:only-of-type {\n        vertical-align: middle;\n    }\n\n    .dataframe tbody tr th {\n        vertical-align: top;\n    }\n\n    .dataframe thead th {\n        text-align: right;\n    }\n\u003c/style\u003e\n\u003ctable border\u003d\"1\" class\u003d\"dataframe\"\u003e\n  \u003cthead\u003e\n    \u003ctr style\u003d\"text-align: right;\"\u003e\n      \u003cth\u003e\u003c/th\u003e\n      \u003cth\u003eA\u003c/th\u003e\n      \u003cth\u003eB\u003c/th\u003e\n      \u003cth\u003eC\u003c/th\u003e\n    \u003c/tr\u003e\n  \u003c/thead\u003e\n  \u003ctbody\u003e\n    \u003ctr\u003e\n      \u003cth\u003e2000-01-01\u003c/th\u003e\n      \u003ctd\u003e0.202048\u003c/td\u003e\n      \u003ctd\u003e1.063788\u003c/td\u003e\n      \u003ctd\u003e1.870031\u003c/td\u003e\n    \u003c/tr\u003e\n    \u003ctr\u003e\n      \u003cth\u003e2000-01-02\u003c/th\u003e\n      \u003ctd\u003e1.521089\u003c/td\u003e\n      \u003ctd\u003e0.970958\u003c/td\u003e\n      \u003ctd\u003e-0.537112\u003c/td\u003e\n    \u003c/tr\u003e\n    \u003ctr\u003e\n      \u003cth\u003e2000-01-03\u003c/th\u003e\n      \u003ctd\u003e0.500468\u003c/td\u003e\n      \u003ctd\u003e-0.344368\u003c/td\u003e\n      \u003ctd\u003e-0.255157\u003c/td\u003e\n    \u003c/tr\u003e\n    \u003ctr\u003e\n      \u003cth\u003e2000-01-04\u003c/th\u003e\n      \u003ctd\u003e0.409489\u003c/td\u003e\n      \u003ctd\u003e-1.543679\u003c/td\u003e\n      \u003ctd\u003e-2.289737\u003c/td\u003e\n    \u003c/tr\u003e\n    \u003ctr\u003e\n      \u003cth\u003e2000-01-05\u003c/th\u003e\n      \u003ctd\u003e-0.049439\u003c/td\u003e\n      \u003ctd\u003e-0.181520\u003c/td\u003e\n      \u003ctd\u003e0.295951\u003c/td\u003e\n    \u003c/tr\u003e\n    \u003ctr\u003e\n      \u003cth\u003e2000-01-06\u003c/th\u003e\n      \u003ctd\u003e1.290732\u003c/td\u003e\n      \u003ctd\u003e-1.118746\u003c/td\u003e\n      \u003ctd\u003e-1.203134\u003c/td\u003e\n    \u003c/tr\u003e\n    \u003ctr\u003e\n      \u003cth\u003e2000-01-07\u003c/th\u003e\n      \u003ctd\u003e-1.331605\u003c/td\u003e\n      \u003ctd\u003e-1.215908\u003c/td\u003e\n      \u003ctd\u003e-0.186490\u003c/td\u003e\n    \u003c/tr\u003e\n    \u003ctr\u003e\n      \u003cth\u003e2000-01-08\u003c/th\u003e\n      \u003ctd\u003e-1.196100\u003c/td\u003e\n      \u003ctd\u003e-0.488757\u003c/td\u003e\n      \u003ctd\u003e-0.284695\u003c/td\u003e\n    \u003c/tr\u003e\n    \u003ctr\u003e\n      \u003cth\u003e2000-01-09\u003c/th\u003e\n      \u003ctd\u003e1.909174\u003c/td\u003e\n      \u003ctd\u003e0.046560\u003c/td\u003e\n      \u003ctd\u003e0.015226\u003c/td\u003e\n    \u003c/tr\u003e\n    \u003ctr\u003e\n      \u003cth\u003e2000-01-10\u003c/th\u003e\n      \u003ctd\u003e-0.091435\u003c/td\u003e\n      \u003ctd\u003e0.161253\u003c/td\u003e\n      \u003ctd\u003e1.154713\u003c/td\u003e\n    \u003c/tr\u003e\n  \u003c/tbody\u003e\n\u003c/table\u003e\n\u003c/div\u003e"
          },
          "metadata": {},
          "output_type": "execute_result",
          "execution_count": 4
        }
      ],
      "source": "\ndf \u003d pd.DataFrame(np.random.randn(10, 3), columns\u003d[\u0027A\u0027, \u0027B\u0027, \u0027C\u0027],\n                    index\u003dpd.date_range(\u00271/1/2000\u0027, periods\u003d10))\ndf",
      "metadata": {
        "pycharm": {
          "metadata": false,
          "name": "#%%\n",
          "is_executing": false
        }
      }
    },
    {
      "cell_type": "code",
      "execution_count": 5,
      "outputs": [
        {
          "data": {
            "text/plain": "                   A         B         C\n2000-01-01  0.202048  1.063788  1.870031\n2000-01-02  1.521089  0.970958 -0.537112\n2000-01-03  0.500468 -0.344368 -0.255157\n2000-01-04       NaN       NaN       NaN\n2000-01-05       NaN       NaN       NaN\n2000-01-06       NaN       NaN       NaN\n2000-01-07       NaN       NaN       NaN\n2000-01-08 -1.196100 -0.488757 -0.284695\n2000-01-09  1.909174  0.046560  0.015226\n2000-01-10 -0.091435  0.161253  1.154713",
            "text/html": "\u003cdiv\u003e\n\u003cstyle scoped\u003e\n    .dataframe tbody tr th:only-of-type {\n        vertical-align: middle;\n    }\n\n    .dataframe tbody tr th {\n        vertical-align: top;\n    }\n\n    .dataframe thead th {\n        text-align: right;\n    }\n\u003c/style\u003e\n\u003ctable border\u003d\"1\" class\u003d\"dataframe\"\u003e\n  \u003cthead\u003e\n    \u003ctr style\u003d\"text-align: right;\"\u003e\n      \u003cth\u003e\u003c/th\u003e\n      \u003cth\u003eA\u003c/th\u003e\n      \u003cth\u003eB\u003c/th\u003e\n      \u003cth\u003eC\u003c/th\u003e\n    \u003c/tr\u003e\n  \u003c/thead\u003e\n  \u003ctbody\u003e\n    \u003ctr\u003e\n      \u003cth\u003e2000-01-01\u003c/th\u003e\n      \u003ctd\u003e0.202048\u003c/td\u003e\n      \u003ctd\u003e1.063788\u003c/td\u003e\n      \u003ctd\u003e1.870031\u003c/td\u003e\n    \u003c/tr\u003e\n    \u003ctr\u003e\n      \u003cth\u003e2000-01-02\u003c/th\u003e\n      \u003ctd\u003e1.521089\u003c/td\u003e\n      \u003ctd\u003e0.970958\u003c/td\u003e\n      \u003ctd\u003e-0.537112\u003c/td\u003e\n    \u003c/tr\u003e\n    \u003ctr\u003e\n      \u003cth\u003e2000-01-03\u003c/th\u003e\n      \u003ctd\u003e0.500468\u003c/td\u003e\n      \u003ctd\u003e-0.344368\u003c/td\u003e\n      \u003ctd\u003e-0.255157\u003c/td\u003e\n    \u003c/tr\u003e\n    \u003ctr\u003e\n      \u003cth\u003e2000-01-04\u003c/th\u003e\n      \u003ctd\u003eNaN\u003c/td\u003e\n      \u003ctd\u003eNaN\u003c/td\u003e\n      \u003ctd\u003eNaN\u003c/td\u003e\n    \u003c/tr\u003e\n    \u003ctr\u003e\n      \u003cth\u003e2000-01-05\u003c/th\u003e\n      \u003ctd\u003eNaN\u003c/td\u003e\n      \u003ctd\u003eNaN\u003c/td\u003e\n      \u003ctd\u003eNaN\u003c/td\u003e\n    \u003c/tr\u003e\n    \u003ctr\u003e\n      \u003cth\u003e2000-01-06\u003c/th\u003e\n      \u003ctd\u003eNaN\u003c/td\u003e\n      \u003ctd\u003eNaN\u003c/td\u003e\n      \u003ctd\u003eNaN\u003c/td\u003e\n    \u003c/tr\u003e\n    \u003ctr\u003e\n      \u003cth\u003e2000-01-07\u003c/th\u003e\n      \u003ctd\u003eNaN\u003c/td\u003e\n      \u003ctd\u003eNaN\u003c/td\u003e\n      \u003ctd\u003eNaN\u003c/td\u003e\n    \u003c/tr\u003e\n    \u003ctr\u003e\n      \u003cth\u003e2000-01-08\u003c/th\u003e\n      \u003ctd\u003e-1.196100\u003c/td\u003e\n      \u003ctd\u003e-0.488757\u003c/td\u003e\n      \u003ctd\u003e-0.284695\u003c/td\u003e\n    \u003c/tr\u003e\n    \u003ctr\u003e\n      \u003cth\u003e2000-01-09\u003c/th\u003e\n      \u003ctd\u003e1.909174\u003c/td\u003e\n      \u003ctd\u003e0.046560\u003c/td\u003e\n      \u003ctd\u003e0.015226\u003c/td\u003e\n    \u003c/tr\u003e\n    \u003ctr\u003e\n      \u003cth\u003e2000-01-10\u003c/th\u003e\n      \u003ctd\u003e-0.091435\u003c/td\u003e\n      \u003ctd\u003e0.161253\u003c/td\u003e\n      \u003ctd\u003e1.154713\u003c/td\u003e\n    \u003c/tr\u003e\n  \u003c/tbody\u003e\n\u003c/table\u003e\n\u003c/div\u003e"
          },
          "metadata": {},
          "output_type": "execute_result",
          "execution_count": 5
        }
      ],
      "source": "df.iloc[3:7] \u003d np.nan\ndf",
      "metadata": {
        "pycharm": {
          "metadata": false,
          "name": "#%%\n",
          "is_executing": false
        }
      }
    },
    {
      "cell_type": "code",
      "execution_count": 6,
      "outputs": [
        {
          "data": {
            "text/plain": "                   A         B         C\n2000-01-01 -0.241698  1.270264  1.604536\n2000-01-02  0.929709  1.128001 -0.898827\n2000-01-03  0.023322 -0.887739 -0.605602\n2000-01-04       NaN       NaN       NaN\n2000-01-05       NaN       NaN       NaN\n2000-01-06       NaN       NaN       NaN\n2000-01-07       NaN       NaN       NaN\n2000-01-08 -1.483358 -1.109014 -0.636321\n2000-01-09  1.274358 -0.288640 -0.324411\n2000-01-10 -0.502333 -0.112872  0.860625",
            "text/html": "\u003cdiv\u003e\n\u003cstyle scoped\u003e\n    .dataframe tbody tr th:only-of-type {\n        vertical-align: middle;\n    }\n\n    .dataframe tbody tr th {\n        vertical-align: top;\n    }\n\n    .dataframe thead th {\n        text-align: right;\n    }\n\u003c/style\u003e\n\u003ctable border\u003d\"1\" class\u003d\"dataframe\"\u003e\n  \u003cthead\u003e\n    \u003ctr style\u003d\"text-align: right;\"\u003e\n      \u003cth\u003e\u003c/th\u003e\n      \u003cth\u003eA\u003c/th\u003e\n      \u003cth\u003eB\u003c/th\u003e\n      \u003cth\u003eC\u003c/th\u003e\n    \u003c/tr\u003e\n  \u003c/thead\u003e\n  \u003ctbody\u003e\n    \u003ctr\u003e\n      \u003cth\u003e2000-01-01\u003c/th\u003e\n      \u003ctd\u003e-0.241698\u003c/td\u003e\n      \u003ctd\u003e1.270264\u003c/td\u003e\n      \u003ctd\u003e1.604536\u003c/td\u003e\n    \u003c/tr\u003e\n    \u003ctr\u003e\n      \u003cth\u003e2000-01-02\u003c/th\u003e\n      \u003ctd\u003e0.929709\u003c/td\u003e\n      \u003ctd\u003e1.128001\u003c/td\u003e\n      \u003ctd\u003e-0.898827\u003c/td\u003e\n    \u003c/tr\u003e\n    \u003ctr\u003e\n      \u003cth\u003e2000-01-03\u003c/th\u003e\n      \u003ctd\u003e0.023322\u003c/td\u003e\n      \u003ctd\u003e-0.887739\u003c/td\u003e\n      \u003ctd\u003e-0.605602\u003c/td\u003e\n    \u003c/tr\u003e\n    \u003ctr\u003e\n      \u003cth\u003e2000-01-04\u003c/th\u003e\n      \u003ctd\u003eNaN\u003c/td\u003e\n      \u003ctd\u003eNaN\u003c/td\u003e\n      \u003ctd\u003eNaN\u003c/td\u003e\n    \u003c/tr\u003e\n    \u003ctr\u003e\n      \u003cth\u003e2000-01-05\u003c/th\u003e\n      \u003ctd\u003eNaN\u003c/td\u003e\n      \u003ctd\u003eNaN\u003c/td\u003e\n      \u003ctd\u003eNaN\u003c/td\u003e\n    \u003c/tr\u003e\n    \u003ctr\u003e\n      \u003cth\u003e2000-01-06\u003c/th\u003e\n      \u003ctd\u003eNaN\u003c/td\u003e\n      \u003ctd\u003eNaN\u003c/td\u003e\n      \u003ctd\u003eNaN\u003c/td\u003e\n    \u003c/tr\u003e\n    \u003ctr\u003e\n      \u003cth\u003e2000-01-07\u003c/th\u003e\n      \u003ctd\u003eNaN\u003c/td\u003e\n      \u003ctd\u003eNaN\u003c/td\u003e\n      \u003ctd\u003eNaN\u003c/td\u003e\n    \u003c/tr\u003e\n    \u003ctr\u003e\n      \u003cth\u003e2000-01-08\u003c/th\u003e\n      \u003ctd\u003e-1.483358\u003c/td\u003e\n      \u003ctd\u003e-1.109014\u003c/td\u003e\n      \u003ctd\u003e-0.636321\u003c/td\u003e\n    \u003c/tr\u003e\n    \u003ctr\u003e\n      \u003cth\u003e2000-01-09\u003c/th\u003e\n      \u003ctd\u003e1.274358\u003c/td\u003e\n      \u003ctd\u003e-0.288640\u003c/td\u003e\n      \u003ctd\u003e-0.324411\u003c/td\u003e\n    \u003c/tr\u003e\n    \u003ctr\u003e\n      \u003cth\u003e2000-01-10\u003c/th\u003e\n      \u003ctd\u003e-0.502333\u003c/td\u003e\n      \u003ctd\u003e-0.112872\u003c/td\u003e\n      \u003ctd\u003e0.860625\u003c/td\u003e\n    \u003c/tr\u003e\n  \u003c/tbody\u003e\n\u003c/table\u003e\n\u003c/div\u003e"
          },
          "metadata": {},
          "output_type": "execute_result",
          "execution_count": 6
        }
      ],
      "source": "\ndf.transform(lambda x: (x - x.mean()) / x.std())",
      "metadata": {
        "pycharm": {
          "metadata": false,
          "name": "#%%\n",
          "is_executing": false
        }
      }
    },
    {
      "cell_type": "code",
      "source": "m\u003ddf[\u0027A\u0027].mean()",
      "metadata": {
        "pycharm": {
          "metadata": false,
          "name": "#%%\n",
          "is_executing": false
        }
      },
      "execution_count": 10,
      "outputs": []
    },
    {
      "cell_type": "code",
      "execution_count": 11,
      "outputs": [],
      "source": "s\u003ddf[\u0027A\u0027].std()",
      "metadata": {
        "pycharm": {
          "metadata": false,
          "name": "#%%\n",
          "is_executing": false
        }
      }
    },
    {
      "cell_type": "code",
      "execution_count": 12,
      "outputs": [
        {
          "data": {
            "text/plain": "-0.24169788849841484"
          },
          "metadata": {},
          "output_type": "execute_result",
          "execution_count": 12
        }
      ],
      "source": "(0.202048-m)/s",
      "metadata": {
        "pycharm": {
          "metadata": false,
          "name": "#%%\n",
          "is_executing": false
        }
      }
    },
    {
      "cell_type": "code",
      "execution_count": 19,
      "outputs": [
        {
          "data": {
            "text/plain": "                   A         B         C\n2000-01-01       NaN       NaN       NaN\n2000-01-02  1.723137  2.034746  1.332919\n2000-01-03  2.021557  0.626589 -0.792269\n2000-01-04       NaN       NaN       NaN\n2000-01-05       NaN       NaN       NaN\n2000-01-06       NaN       NaN       NaN\n2000-01-07       NaN       NaN       NaN\n2000-01-08       NaN       NaN       NaN\n2000-01-09  0.713075 -0.442196 -0.269469\n2000-01-10  1.817739  0.207814  1.169939",
            "text/html": "\u003cdiv\u003e\n\u003cstyle scoped\u003e\n    .dataframe tbody tr th:only-of-type {\n        vertical-align: middle;\n    }\n\n    .dataframe tbody tr th {\n        vertical-align: top;\n    }\n\n    .dataframe thead th {\n        text-align: right;\n    }\n\u003c/style\u003e\n\u003ctable border\u003d\"1\" class\u003d\"dataframe\"\u003e\n  \u003cthead\u003e\n    \u003ctr style\u003d\"text-align: right;\"\u003e\n      \u003cth\u003e\u003c/th\u003e\n      \u003cth\u003eA\u003c/th\u003e\n      \u003cth\u003eB\u003c/th\u003e\n      \u003cth\u003eC\u003c/th\u003e\n    \u003c/tr\u003e\n  \u003c/thead\u003e\n  \u003ctbody\u003e\n    \u003ctr\u003e\n      \u003cth\u003e2000-01-01\u003c/th\u003e\n      \u003ctd\u003eNaN\u003c/td\u003e\n      \u003ctd\u003eNaN\u003c/td\u003e\n      \u003ctd\u003eNaN\u003c/td\u003e\n    \u003c/tr\u003e\n    \u003ctr\u003e\n      \u003cth\u003e2000-01-02\u003c/th\u003e\n      \u003ctd\u003e1.723137\u003c/td\u003e\n      \u003ctd\u003e2.034746\u003c/td\u003e\n      \u003ctd\u003e1.332919\u003c/td\u003e\n    \u003c/tr\u003e\n    \u003ctr\u003e\n      \u003cth\u003e2000-01-03\u003c/th\u003e\n      \u003ctd\u003e2.021557\u003c/td\u003e\n      \u003ctd\u003e0.626589\u003c/td\u003e\n      \u003ctd\u003e-0.792269\u003c/td\u003e\n    \u003c/tr\u003e\n    \u003ctr\u003e\n      \u003cth\u003e2000-01-04\u003c/th\u003e\n      \u003ctd\u003eNaN\u003c/td\u003e\n      \u003ctd\u003eNaN\u003c/td\u003e\n      \u003ctd\u003eNaN\u003c/td\u003e\n    \u003c/tr\u003e\n    \u003ctr\u003e\n      \u003cth\u003e2000-01-05\u003c/th\u003e\n      \u003ctd\u003eNaN\u003c/td\u003e\n      \u003ctd\u003eNaN\u003c/td\u003e\n      \u003ctd\u003eNaN\u003c/td\u003e\n    \u003c/tr\u003e\n    \u003ctr\u003e\n      \u003cth\u003e2000-01-06\u003c/th\u003e\n      \u003ctd\u003eNaN\u003c/td\u003e\n      \u003ctd\u003eNaN\u003c/td\u003e\n      \u003ctd\u003eNaN\u003c/td\u003e\n    \u003c/tr\u003e\n    \u003ctr\u003e\n      \u003cth\u003e2000-01-07\u003c/th\u003e\n      \u003ctd\u003eNaN\u003c/td\u003e\n      \u003ctd\u003eNaN\u003c/td\u003e\n      \u003ctd\u003eNaN\u003c/td\u003e\n    \u003c/tr\u003e\n    \u003ctr\u003e\n      \u003cth\u003e2000-01-08\u003c/th\u003e\n      \u003ctd\u003eNaN\u003c/td\u003e\n      \u003ctd\u003eNaN\u003c/td\u003e\n      \u003ctd\u003eNaN\u003c/td\u003e\n    \u003c/tr\u003e\n    \u003ctr\u003e\n      \u003cth\u003e2000-01-09\u003c/th\u003e\n      \u003ctd\u003e0.713075\u003c/td\u003e\n      \u003ctd\u003e-0.442196\u003c/td\u003e\n      \u003ctd\u003e-0.269469\u003c/td\u003e\n    \u003c/tr\u003e\n    \u003ctr\u003e\n      \u003cth\u003e2000-01-10\u003c/th\u003e\n      \u003ctd\u003e1.817739\u003c/td\u003e\n      \u003ctd\u003e0.207814\u003c/td\u003e\n      \u003ctd\u003e1.169939\u003c/td\u003e\n    \u003c/tr\u003e\n  \u003c/tbody\u003e\n\u003c/table\u003e\n\u003c/div\u003e"
          },
          "metadata": {},
          "output_type": "execute_result",
          "execution_count": 19
        }
      ],
      "source": "df.rolling(2).sum()",
      "metadata": {
        "pycharm": {
          "metadata": false,
          "name": "#%%\n",
          "is_executing": false
        }
      }
    },
    {
      "cell_type": "code",
      "execution_count": 20,
      "outputs": [
        {
          "data": {
            "text/plain": "      data1     data2\n0  0.377533  0.573231\n1 -0.050313 -0.356499\n2  1.242387  2.001857\n3  2.050598 -0.314787\n4  0.755100  0.447099",
            "text/html": "\u003cdiv\u003e\n\u003cstyle scoped\u003e\n    .dataframe tbody tr th:only-of-type {\n        vertical-align: middle;\n    }\n\n    .dataframe tbody tr th {\n        vertical-align: top;\n    }\n\n    .dataframe thead th {\n        text-align: right;\n    }\n\u003c/style\u003e\n\u003ctable border\u003d\"1\" class\u003d\"dataframe\"\u003e\n  \u003cthead\u003e\n    \u003ctr style\u003d\"text-align: right;\"\u003e\n      \u003cth\u003e\u003c/th\u003e\n      \u003cth\u003edata1\u003c/th\u003e\n      \u003cth\u003edata2\u003c/th\u003e\n    \u003c/tr\u003e\n  \u003c/thead\u003e\n  \u003ctbody\u003e\n    \u003ctr\u003e\n      \u003cth\u003e0\u003c/th\u003e\n      \u003ctd\u003e0.377533\u003c/td\u003e\n      \u003ctd\u003e0.573231\u003c/td\u003e\n    \u003c/tr\u003e\n    \u003ctr\u003e\n      \u003cth\u003e1\u003c/th\u003e\n      \u003ctd\u003e-0.050313\u003c/td\u003e\n      \u003ctd\u003e-0.356499\u003c/td\u003e\n    \u003c/tr\u003e\n    \u003ctr\u003e\n      \u003cth\u003e2\u003c/th\u003e\n      \u003ctd\u003e1.242387\u003c/td\u003e\n      \u003ctd\u003e2.001857\u003c/td\u003e\n    \u003c/tr\u003e\n    \u003ctr\u003e\n      \u003cth\u003e3\u003c/th\u003e\n      \u003ctd\u003e2.050598\u003c/td\u003e\n      \u003ctd\u003e-0.314787\u003c/td\u003e\n    \u003c/tr\u003e\n    \u003ctr\u003e\n      \u003cth\u003e4\u003c/th\u003e\n      \u003ctd\u003e0.755100\u003c/td\u003e\n      \u003ctd\u003e0.447099\u003c/td\u003e\n    \u003c/tr\u003e\n  \u003c/tbody\u003e\n\u003c/table\u003e\n\u003c/div\u003e"
          },
          "metadata": {},
          "output_type": "execute_result",
          "execution_count": 20
        }
      ],
      "source": "frame\u003dpd.DataFrame({\u0027data1\u0027:np.random.randn(1000),\n                   \u0027data2\u0027: np.random.randn(1000)})\nframe[:5]",
      "metadata": {
        "pycharm": {
          "metadata": false,
          "name": "#%%\n",
          "is_executing": false
        }
      }
    },
    {
      "cell_type": "code",
      "execution_count": 21,
      "outputs": [
        {
          "data": {
            "text/plain": "0     (-0.0248, 1.648]\n1    (-1.698, -0.0248]\n2     (-0.0248, 1.648]\n3       (1.648, 3.321]\n4     (-0.0248, 1.648]\n5    (-1.698, -0.0248]\n6    (-1.698, -0.0248]\n7    (-1.698, -0.0248]\n8     (-0.0248, 1.648]\n9     (-0.0248, 1.648]\nName: data1, dtype: category\nCategories (4, interval[float64]): [(-3.377, -1.698] \u003c (-1.698, -0.0248] \u003c (-0.0248, 1.648] \u003c (1.648, 3.321]]"
          },
          "metadata": {},
          "output_type": "execute_result",
          "execution_count": 21
        }
      ],
      "source": "factor\u003dpd.cut(frame.data1,4)\nfactor[:10]\n# Categories (4, interval[float64]): [(-3.377, -1.698] \u003c (-1.698, -0.0248] \u003c (-0.0248, 1.648] \u003c (1.648, 3.321]]",
      "metadata": {
        "pycharm": {
          "metadata": false,
          "name": "#%%\n",
          "is_executing": false
        }
      }
    },
    {
      "cell_type": "code",
      "execution_count": 22,
      "outputs": [
        {
          "data": {
            "text/plain": "                   count       max      mean       min\ndata1                                                 \n(-3.377, -1.698]    52.0  2.438811  0.126189 -2.407562\n(-1.698, -0.0248]  428.0  3.320897  0.005233 -3.185474\n(-0.0248, 1.648]   466.0  3.524111  0.087588 -2.955950\n(1.648, 3.321]      54.0  2.978907  0.205089 -1.897443",
            "text/html": "\u003cdiv\u003e\n\u003cstyle scoped\u003e\n    .dataframe tbody tr th:only-of-type {\n        vertical-align: middle;\n    }\n\n    .dataframe tbody tr th {\n        vertical-align: top;\n    }\n\n    .dataframe thead th {\n        text-align: right;\n    }\n\u003c/style\u003e\n\u003ctable border\u003d\"1\" class\u003d\"dataframe\"\u003e\n  \u003cthead\u003e\n    \u003ctr style\u003d\"text-align: right;\"\u003e\n      \u003cth\u003e\u003c/th\u003e\n      \u003cth\u003ecount\u003c/th\u003e\n      \u003cth\u003emax\u003c/th\u003e\n      \u003cth\u003emean\u003c/th\u003e\n      \u003cth\u003emin\u003c/th\u003e\n    \u003c/tr\u003e\n    \u003ctr\u003e\n      \u003cth\u003edata1\u003c/th\u003e\n      \u003cth\u003e\u003c/th\u003e\n      \u003cth\u003e\u003c/th\u003e\n      \u003cth\u003e\u003c/th\u003e\n      \u003cth\u003e\u003c/th\u003e\n    \u003c/tr\u003e\n  \u003c/thead\u003e\n  \u003ctbody\u003e\n    \u003ctr\u003e\n      \u003cth\u003e(-3.377, -1.698]\u003c/th\u003e\n      \u003ctd\u003e52.0\u003c/td\u003e\n      \u003ctd\u003e2.438811\u003c/td\u003e\n      \u003ctd\u003e0.126189\u003c/td\u003e\n      \u003ctd\u003e-2.407562\u003c/td\u003e\n    \u003c/tr\u003e\n    \u003ctr\u003e\n      \u003cth\u003e(-1.698, -0.0248]\u003c/th\u003e\n      \u003ctd\u003e428.0\u003c/td\u003e\n      \u003ctd\u003e3.320897\u003c/td\u003e\n      \u003ctd\u003e0.005233\u003c/td\u003e\n      \u003ctd\u003e-3.185474\u003c/td\u003e\n    \u003c/tr\u003e\n    \u003ctr\u003e\n      \u003cth\u003e(-0.0248, 1.648]\u003c/th\u003e\n      \u003ctd\u003e466.0\u003c/td\u003e\n      \u003ctd\u003e3.524111\u003c/td\u003e\n      \u003ctd\u003e0.087588\u003c/td\u003e\n      \u003ctd\u003e-2.955950\u003c/td\u003e\n    \u003c/tr\u003e\n    \u003ctr\u003e\n      \u003cth\u003e(1.648, 3.321]\u003c/th\u003e\n      \u003ctd\u003e54.0\u003c/td\u003e\n      \u003ctd\u003e2.978907\u003c/td\u003e\n      \u003ctd\u003e0.205089\u003c/td\u003e\n      \u003ctd\u003e-1.897443\u003c/td\u003e\n    \u003c/tr\u003e\n  \u003c/tbody\u003e\n\u003c/table\u003e\n\u003c/div\u003e"
          },
          "metadata": {},
          "output_type": "execute_result",
          "execution_count": 22
        }
      ],
      "source": "def get_stats(group):\n    return {\u0027min\u0027:group.min(),\u0027max\u0027:group.max(),\u0027count\u0027:group.count(),\u0027mean\u0027:group.mean()}\ngrouped\u003dframe.data2.groupby(factor)\ngrouped.apply(get_stats).unstack()",
      "metadata": {
        "pycharm": {
          "metadata": false,
          "name": "#%%\n",
          "is_executing": false
        }
      }
    },
    {
      "cell_type": "code",
      "execution_count": 23,
      "outputs": [
        {
          "data": {
            "text/plain": "       count       max      mean       min\ndata1                                     \n0      100.0  2.564373  0.091591 -2.473896\n1      100.0  2.879827  0.119307 -2.740176\n2      100.0  3.320897  0.100691 -2.988853\n3      100.0  2.032827 -0.131801 -2.297751\n4      100.0  2.012312 -0.030788 -3.185474\n5      100.0  2.396650 -0.002249 -2.955950\n6      100.0  3.524111  0.147939 -1.993053\n7      100.0  2.155580 -0.014411 -2.009133\n8      100.0  2.573522  0.165259 -2.322492\n9      100.0  3.008036  0.161382 -2.191827",
            "text/html": "\u003cdiv\u003e\n\u003cstyle scoped\u003e\n    .dataframe tbody tr th:only-of-type {\n        vertical-align: middle;\n    }\n\n    .dataframe tbody tr th {\n        vertical-align: top;\n    }\n\n    .dataframe thead th {\n        text-align: right;\n    }\n\u003c/style\u003e\n\u003ctable border\u003d\"1\" class\u003d\"dataframe\"\u003e\n  \u003cthead\u003e\n    \u003ctr style\u003d\"text-align: right;\"\u003e\n      \u003cth\u003e\u003c/th\u003e\n      \u003cth\u003ecount\u003c/th\u003e\n      \u003cth\u003emax\u003c/th\u003e\n      \u003cth\u003emean\u003c/th\u003e\n      \u003cth\u003emin\u003c/th\u003e\n    \u003c/tr\u003e\n    \u003ctr\u003e\n      \u003cth\u003edata1\u003c/th\u003e\n      \u003cth\u003e\u003c/th\u003e\n      \u003cth\u003e\u003c/th\u003e\n      \u003cth\u003e\u003c/th\u003e\n      \u003cth\u003e\u003c/th\u003e\n    \u003c/tr\u003e\n  \u003c/thead\u003e\n  \u003ctbody\u003e\n    \u003ctr\u003e\n      \u003cth\u003e0\u003c/th\u003e\n      \u003ctd\u003e100.0\u003c/td\u003e\n      \u003ctd\u003e2.564373\u003c/td\u003e\n      \u003ctd\u003e0.091591\u003c/td\u003e\n      \u003ctd\u003e-2.473896\u003c/td\u003e\n    \u003c/tr\u003e\n    \u003ctr\u003e\n      \u003cth\u003e1\u003c/th\u003e\n      \u003ctd\u003e100.0\u003c/td\u003e\n      \u003ctd\u003e2.879827\u003c/td\u003e\n      \u003ctd\u003e0.119307\u003c/td\u003e\n      \u003ctd\u003e-2.740176\u003c/td\u003e\n    \u003c/tr\u003e\n    \u003ctr\u003e\n      \u003cth\u003e2\u003c/th\u003e\n      \u003ctd\u003e100.0\u003c/td\u003e\n      \u003ctd\u003e3.320897\u003c/td\u003e\n      \u003ctd\u003e0.100691\u003c/td\u003e\n      \u003ctd\u003e-2.988853\u003c/td\u003e\n    \u003c/tr\u003e\n    \u003ctr\u003e\n      \u003cth\u003e3\u003c/th\u003e\n      \u003ctd\u003e100.0\u003c/td\u003e\n      \u003ctd\u003e2.032827\u003c/td\u003e\n      \u003ctd\u003e-0.131801\u003c/td\u003e\n      \u003ctd\u003e-2.297751\u003c/td\u003e\n    \u003c/tr\u003e\n    \u003ctr\u003e\n      \u003cth\u003e4\u003c/th\u003e\n      \u003ctd\u003e100.0\u003c/td\u003e\n      \u003ctd\u003e2.012312\u003c/td\u003e\n      \u003ctd\u003e-0.030788\u003c/td\u003e\n      \u003ctd\u003e-3.185474\u003c/td\u003e\n    \u003c/tr\u003e\n    \u003ctr\u003e\n      \u003cth\u003e5\u003c/th\u003e\n      \u003ctd\u003e100.0\u003c/td\u003e\n      \u003ctd\u003e2.396650\u003c/td\u003e\n      \u003ctd\u003e-0.002249\u003c/td\u003e\n      \u003ctd\u003e-2.955950\u003c/td\u003e\n    \u003c/tr\u003e\n    \u003ctr\u003e\n      \u003cth\u003e6\u003c/th\u003e\n      \u003ctd\u003e100.0\u003c/td\u003e\n      \u003ctd\u003e3.524111\u003c/td\u003e\n      \u003ctd\u003e0.147939\u003c/td\u003e\n      \u003ctd\u003e-1.993053\u003c/td\u003e\n    \u003c/tr\u003e\n    \u003ctr\u003e\n      \u003cth\u003e7\u003c/th\u003e\n      \u003ctd\u003e100.0\u003c/td\u003e\n      \u003ctd\u003e2.155580\u003c/td\u003e\n      \u003ctd\u003e-0.014411\u003c/td\u003e\n      \u003ctd\u003e-2.009133\u003c/td\u003e\n    \u003c/tr\u003e\n    \u003ctr\u003e\n      \u003cth\u003e8\u003c/th\u003e\n      \u003ctd\u003e100.0\u003c/td\u003e\n      \u003ctd\u003e2.573522\u003c/td\u003e\n      \u003ctd\u003e0.165259\u003c/td\u003e\n      \u003ctd\u003e-2.322492\u003c/td\u003e\n    \u003c/tr\u003e\n    \u003ctr\u003e\n      \u003cth\u003e9\u003c/th\u003e\n      \u003ctd\u003e100.0\u003c/td\u003e\n      \u003ctd\u003e3.008036\u003c/td\u003e\n      \u003ctd\u003e0.161382\u003c/td\u003e\n      \u003ctd\u003e-2.191827\u003c/td\u003e\n    \u003c/tr\u003e\n  \u003c/tbody\u003e\n\u003c/table\u003e\n\u003c/div\u003e"
          },
          "metadata": {},
          "output_type": "execute_result",
          "execution_count": 23
        }
      ],
      "source": "grouping\u003dpd.qcut(frame.data1,10,labels\u003dFalse)#label\u003dfalse即可值获取分位数的编号\ngrouped\u003dframe.data2.groupby(grouping)\ngrouped.apply(get_stats).unstack()\n",
      "metadata": {
        "pycharm": {
          "metadata": false,
          "name": "#%%\n",
          "is_executing": false
        }
      }
    },
    {
      "cell_type": "code",
      "execution_count": null,
      "outputs": [],
      "source": "\n",
      "metadata": {
        "pycharm": {
          "metadata": false,
          "name": "#%%\n"
        }
      }
    }
  ],
  "metadata": {
    "language_info": {
      "codemirror_mode": {
        "name": "ipython",
        "version": 2
      },
      "file_extension": ".py",
      "mimetype": "text/x-python",
      "name": "python",
      "nbconvert_exporter": "python",
      "pygments_lexer": "ipython2",
      "version": "2.7.6"
    },
    "kernelspec": {
      "name": "python3",
      "language": "python",
      "display_name": "Python 3"
    },
    "stem_cell": {
      "cell_type": "raw",
      "source": "",
      "metadata": {
        "pycharm": {
          "metadata": false
        }
      }
    }
  },
  "nbformat": 4,
  "nbformat_minor": 0
}