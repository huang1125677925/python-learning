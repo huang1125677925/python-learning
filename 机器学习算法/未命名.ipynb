{
 "cells": [
  {
   "cell_type": "code",
   "execution_count": 2,
   "metadata": {},
   "outputs": [],
   "source": [
    "# importing required libraries\n",
    "\n",
    "from sklearn.preprocessing import MinMaxScaler\n",
    "\n",
    "from keras.models import Sequential\n",
    "\n",
    "from keras.layers import Dense, Dropout, LSTM\n",
    "\n",
    "import pandas as pd\n",
    "\n",
    "data=pd.read_csv('test1.csv')\n"
   ]
  },
  {
   "cell_type": "code",
   "execution_count": 3,
   "metadata": {},
   "outputs": [
    {
     "data": {
      "text/html": [
       "<div>\n",
       "<style scoped>\n",
       "    .dataframe tbody tr th:only-of-type {\n",
       "        vertical-align: middle;\n",
       "    }\n",
       "\n",
       "    .dataframe tbody tr th {\n",
       "        vertical-align: top;\n",
       "    }\n",
       "\n",
       "    .dataframe thead th {\n",
       "        text-align: right;\n",
       "    }\n",
       "</style>\n",
       "<table border=\"1\" class=\"dataframe\">\n",
       "  <thead>\n",
       "    <tr style=\"text-align: right;\">\n",
       "      <th></th>\n",
       "      <th>Unnamed: 0</th>\n",
       "      <th>timestamp</th>\n",
       "      <th>value</th>\n",
       "      <th>label</th>\n",
       "      <th>KPI ID</th>\n",
       "    </tr>\n",
       "  </thead>\n",
       "  <tbody>\n",
       "    <tr>\n",
       "      <th>0</th>\n",
       "      <td>2419077</td>\n",
       "      <td>1491041280</td>\n",
       "      <td>199.34</td>\n",
       "      <td>0</td>\n",
       "      <td>6d1114ae-be04-3c46-b5aa-be1a003a57cd</td>\n",
       "    </tr>\n",
       "    <tr>\n",
       "      <th>1</th>\n",
       "      <td>2419078</td>\n",
       "      <td>1491041340</td>\n",
       "      <td>199.73</td>\n",
       "      <td>0</td>\n",
       "      <td>6d1114ae-be04-3c46-b5aa-be1a003a57cd</td>\n",
       "    </tr>\n",
       "    <tr>\n",
       "      <th>2</th>\n",
       "      <td>2419079</td>\n",
       "      <td>1491041400</td>\n",
       "      <td>198.11</td>\n",
       "      <td>0</td>\n",
       "      <td>6d1114ae-be04-3c46-b5aa-be1a003a57cd</td>\n",
       "    </tr>\n",
       "    <tr>\n",
       "      <th>3</th>\n",
       "      <td>2419080</td>\n",
       "      <td>1491041460</td>\n",
       "      <td>191.34</td>\n",
       "      <td>0</td>\n",
       "      <td>6d1114ae-be04-3c46-b5aa-be1a003a57cd</td>\n",
       "    </tr>\n",
       "    <tr>\n",
       "      <th>4</th>\n",
       "      <td>2419081</td>\n",
       "      <td>1491041520</td>\n",
       "      <td>187.99</td>\n",
       "      <td>0</td>\n",
       "      <td>6d1114ae-be04-3c46-b5aa-be1a003a57cd</td>\n",
       "    </tr>\n",
       "  </tbody>\n",
       "</table>\n",
       "</div>"
      ],
      "text/plain": [
       "   Unnamed: 0   timestamp   value  label                                KPI ID\n",
       "0     2419077  1491041280  199.34      0  6d1114ae-be04-3c46-b5aa-be1a003a57cd\n",
       "1     2419078  1491041340  199.73      0  6d1114ae-be04-3c46-b5aa-be1a003a57cd\n",
       "2     2419079  1491041400  198.11      0  6d1114ae-be04-3c46-b5aa-be1a003a57cd\n",
       "3     2419080  1491041460  191.34      0  6d1114ae-be04-3c46-b5aa-be1a003a57cd\n",
       "4     2419081  1491041520  187.99      0  6d1114ae-be04-3c46-b5aa-be1a003a57cd"
      ]
     },
     "execution_count": 3,
     "metadata": {},
     "output_type": "execute_result"
    }
   ],
   "source": [
    "data.head()"
   ]
  },
  {
   "cell_type": "code",
   "execution_count": 4,
   "metadata": {},
   "outputs": [],
   "source": [
    "data.drop(['Unnamed: 0','label','KPI ID'],axis=1,inplace=True)"
   ]
  },
  {
   "cell_type": "code",
   "execution_count": 6,
   "metadata": {},
   "outputs": [],
   "source": [
    "data.drop('timestamp',axis=1,inplace=True)"
   ]
  },
  {
   "cell_type": "code",
   "execution_count": 32,
   "metadata": {},
   "outputs": [],
   "source": [
    "dataset=list(data.value[:1700])\n",
    "train=list(data.value[:1400])\n",
    "valid=list(data.value[1400:1700])"
   ]
  },
  {
   "cell_type": "code",
   "execution_count": 44,
   "metadata": {},
   "outputs": [],
   "source": [
    "import numpy as np\n",
    "dataset1=[]\n",
    "for i in range(len(dataset)):\n",
    "    dataset1.append([dataset[i]])\n",
    "dataset1=np.array(dataset1)"
   ]
  },
  {
   "cell_type": "code",
   "execution_count": null,
   "metadata": {},
   "outputs": [],
   "source": []
  },
  {
   "cell_type": "code",
   "execution_count": 45,
   "metadata": {},
   "outputs": [],
   "source": [
    "# convert an array of values into a dataset matrix\n",
    "import numpy\n",
    "def create_dataset(dataset, look_back=1):\n",
    "    dataX, dataY = [], []\n",
    "    for i in range(len(dataset)-look_back-1):\n",
    "        a = dataset[i:(i+look_back), 0]\n",
    "        dataX.append(a)\n",
    "        dataY.append(dataset[i + look_back, 0])\n",
    "    return numpy.array(dataX), numpy.array(dataY)\n",
    "\n",
    "# fix random seed for reproducibility\n",
    "np.random.seed(7)\n",
    "\n"
   ]
  },
  {
   "cell_type": "code",
   "execution_count": 47,
   "metadata": {},
   "outputs": [],
   "source": [
    "# normalize the dataset\n",
    "scaler = MinMaxScaler(feature_range=(0, 1))\n",
    "dataset = scaler.fit_transform(dataset1)\n",
    "\n",
    "\n",
    "# split into train and test sets\n",
    "train_size = int(len(dataset) * 0.67)\n",
    "test_size = len(dataset) - train_size\n",
    "train, test = dataset[0:train_size,:], dataset[train_size:len(dataset),:]"
   ]
  },
  {
   "cell_type": "code",
   "execution_count": 48,
   "metadata": {},
   "outputs": [],
   "source": [
    "# use this function to prepare the train and test datasets for modeling\n",
    "look_back = 60\n",
    "trainX, trainY = create_dataset(train, look_back)\n",
    "testX, testY = create_dataset(test, look_back)"
   ]
  },
  {
   "cell_type": "code",
   "execution_count": 50,
   "metadata": {},
   "outputs": [],
   "source": [
    "# reshape input to be [samples, time steps, features]\n",
    "trainX = numpy.reshape(trainX, (trainX.shape[0], 1, trainX.shape[1]))\n",
    "testX = numpy.reshape(testX, (testX.shape[0], 1, testX.shape[1]))"
   ]
  },
  {
   "cell_type": "code",
   "execution_count": 51,
   "metadata": {},
   "outputs": [
    {
     "name": "stdout",
     "output_type": "stream",
     "text": [
      "WARNING:tensorflow:From /usr/local/lib/python3.7/site-packages/tensorflow/python/ops/math_ops.py:3066: to_int32 (from tensorflow.python.ops.math_ops) is deprecated and will be removed in a future version.\n",
      "Instructions for updating:\n",
      "Use tf.cast instead.\n",
      "Epoch 1/100\n",
      " - 2s - loss: 0.0048\n",
      "Epoch 2/100\n",
      " - 2s - loss: 0.0027\n",
      "Epoch 3/100\n",
      " - 2s - loss: 0.0024\n",
      "Epoch 4/100\n",
      " - 2s - loss: 0.0024\n",
      "Epoch 5/100\n",
      " - 2s - loss: 0.0023\n",
      "Epoch 6/100\n",
      " - 2s - loss: 0.0022\n",
      "Epoch 7/100\n",
      " - 2s - loss: 0.0022\n",
      "Epoch 8/100\n",
      " - 2s - loss: 0.0022\n",
      "Epoch 9/100\n",
      " - 2s - loss: 0.0021\n",
      "Epoch 10/100\n",
      " - 2s - loss: 0.0022\n",
      "Epoch 11/100\n",
      " - 2s - loss: 0.0021\n",
      "Epoch 12/100\n",
      " - 2s - loss: 0.0021\n",
      "Epoch 13/100\n",
      " - 2s - loss: 0.0020\n",
      "Epoch 14/100\n",
      " - 2s - loss: 0.0020\n",
      "Epoch 15/100\n",
      " - 2s - loss: 0.0019\n",
      "Epoch 16/100\n",
      " - 2s - loss: 0.0020\n",
      "Epoch 17/100\n",
      " - 2s - loss: 0.0019\n",
      "Epoch 18/100\n",
      " - 2s - loss: 0.0020\n",
      "Epoch 19/100\n",
      " - 2s - loss: 0.0019\n",
      "Epoch 20/100\n",
      " - 2s - loss: 0.0019\n",
      "Epoch 21/100\n",
      " - 2s - loss: 0.0019\n",
      "Epoch 22/100\n",
      " - 2s - loss: 0.0019\n",
      "Epoch 23/100\n",
      " - 2s - loss: 0.0020\n",
      "Epoch 24/100\n",
      " - 2s - loss: 0.0019\n",
      "Epoch 25/100\n",
      " - 2s - loss: 0.0018\n",
      "Epoch 26/100\n",
      " - 2s - loss: 0.0020\n",
      "Epoch 27/100\n",
      " - 2s - loss: 0.0019\n",
      "Epoch 28/100\n",
      " - 2s - loss: 0.0019\n",
      "Epoch 29/100\n",
      " - 2s - loss: 0.0018\n",
      "Epoch 30/100\n",
      " - 2s - loss: 0.0018\n",
      "Epoch 31/100\n",
      " - 2s - loss: 0.0019\n",
      "Epoch 32/100\n",
      " - 2s - loss: 0.0019\n",
      "Epoch 33/100\n",
      " - 2s - loss: 0.0018\n",
      "Epoch 34/100\n",
      " - 2s - loss: 0.0018\n",
      "Epoch 35/100\n",
      " - 2s - loss: 0.0019\n",
      "Epoch 36/100\n",
      " - 2s - loss: 0.0018\n",
      "Epoch 37/100\n",
      " - 2s - loss: 0.0018\n",
      "Epoch 38/100\n",
      " - 2s - loss: 0.0018\n",
      "Epoch 39/100\n",
      " - 2s - loss: 0.0018\n",
      "Epoch 40/100\n",
      " - 2s - loss: 0.0018\n",
      "Epoch 41/100\n",
      " - 2s - loss: 0.0018\n",
      "Epoch 42/100\n",
      " - 2s - loss: 0.0018\n",
      "Epoch 43/100\n",
      " - 2s - loss: 0.0018\n",
      "Epoch 44/100\n",
      " - 2s - loss: 0.0018\n",
      "Epoch 45/100\n",
      " - 2s - loss: 0.0018\n",
      "Epoch 46/100\n",
      " - 2s - loss: 0.0018\n",
      "Epoch 47/100\n",
      " - 2s - loss: 0.0018\n",
      "Epoch 48/100\n",
      " - 2s - loss: 0.0018\n",
      "Epoch 49/100\n",
      " - 2s - loss: 0.0018\n",
      "Epoch 50/100\n",
      " - 2s - loss: 0.0019\n",
      "Epoch 51/100\n",
      " - 2s - loss: 0.0017\n",
      "Epoch 52/100\n",
      " - 2s - loss: 0.0018\n",
      "Epoch 53/100\n",
      " - 2s - loss: 0.0018\n",
      "Epoch 54/100\n",
      " - 2s - loss: 0.0018\n",
      "Epoch 55/100\n",
      " - 2s - loss: 0.0018\n",
      "Epoch 56/100\n",
      " - 2s - loss: 0.0017\n",
      "Epoch 57/100\n",
      " - 2s - loss: 0.0018\n",
      "Epoch 58/100\n",
      " - 2s - loss: 0.0018\n",
      "Epoch 59/100\n",
      " - 2s - loss: 0.0017\n",
      "Epoch 60/100\n",
      " - 2s - loss: 0.0017\n",
      "Epoch 61/100\n",
      " - 2s - loss: 0.0018\n",
      "Epoch 62/100\n",
      " - 2s - loss: 0.0018\n",
      "Epoch 63/100\n",
      " - 2s - loss: 0.0017\n",
      "Epoch 64/100\n",
      " - 2s - loss: 0.0017\n",
      "Epoch 65/100\n",
      " - 2s - loss: 0.0017\n",
      "Epoch 66/100\n",
      " - 2s - loss: 0.0017\n",
      "Epoch 67/100\n",
      " - 2s - loss: 0.0017\n",
      "Epoch 68/100\n",
      " - 2s - loss: 0.0018\n",
      "Epoch 69/100\n",
      " - 2s - loss: 0.0017\n",
      "Epoch 70/100\n",
      " - 2s - loss: 0.0018\n",
      "Epoch 71/100\n",
      " - 2s - loss: 0.0018\n",
      "Epoch 72/100\n",
      " - 2s - loss: 0.0017\n",
      "Epoch 73/100\n",
      " - 2s - loss: 0.0017\n",
      "Epoch 74/100\n",
      " - 2s - loss: 0.0018\n",
      "Epoch 75/100\n",
      " - 2s - loss: 0.0018\n",
      "Epoch 76/100\n",
      " - 2s - loss: 0.0017\n",
      "Epoch 77/100\n",
      " - 2s - loss: 0.0018\n",
      "Epoch 78/100\n",
      " - 2s - loss: 0.0017\n",
      "Epoch 79/100\n",
      " - 2s - loss: 0.0016\n",
      "Epoch 80/100\n",
      " - 2s - loss: 0.0017\n",
      "Epoch 81/100\n",
      " - 2s - loss: 0.0018\n",
      "Epoch 82/100\n",
      " - 2s - loss: 0.0017\n",
      "Epoch 83/100\n",
      " - 2s - loss: 0.0017\n",
      "Epoch 84/100\n",
      " - 2s - loss: 0.0017\n",
      "Epoch 85/100\n",
      " - 2s - loss: 0.0017\n",
      "Epoch 86/100\n",
      " - 2s - loss: 0.0017\n",
      "Epoch 87/100\n",
      " - 2s - loss: 0.0018\n",
      "Epoch 88/100\n",
      " - 2s - loss: 0.0017\n",
      "Epoch 89/100\n",
      " - 2s - loss: 0.0017\n",
      "Epoch 90/100\n",
      " - 2s - loss: 0.0017\n",
      "Epoch 91/100\n",
      " - 2s - loss: 0.0017\n",
      "Epoch 92/100\n",
      " - 2s - loss: 0.0017\n",
      "Epoch 93/100\n",
      " - 2s - loss: 0.0017\n",
      "Epoch 94/100\n",
      " - 2s - loss: 0.0017\n",
      "Epoch 95/100\n",
      " - 2s - loss: 0.0017\n",
      "Epoch 96/100\n",
      " - 2s - loss: 0.0017\n",
      "Epoch 97/100\n",
      " - 2s - loss: 0.0017\n",
      "Epoch 98/100\n",
      " - 2s - loss: 0.0017\n",
      "Epoch 99/100\n",
      " - 2s - loss: 0.0017\n",
      "Epoch 100/100\n",
      " - 2s - loss: 0.0017\n"
     ]
    },
    {
     "data": {
      "text/plain": [
       "<keras.callbacks.History at 0x1357aa748>"
      ]
     },
     "execution_count": 51,
     "metadata": {},
     "output_type": "execute_result"
    }
   ],
   "source": [
    "# create and fit the LSTM network\n",
    "model = Sequential()\n",
    "model.add(LSTM(4, input_shape=(1, look_back)))\n",
    "model.add(Dense(1))\n",
    "model.compile(loss='mean_squared_error', optimizer='adam')\n",
    "model.fit(trainX, trainY, epochs=100, batch_size=1, verbose=2)"
   ]
  },
  {
   "cell_type": "code",
   "execution_count": 52,
   "metadata": {},
   "outputs": [],
   "source": [
    "# make predictions\n",
    "trainPredict = model.predict(trainX)\n",
    "testPredict = model.predict(testX)"
   ]
  },
  {
   "cell_type": "code",
   "execution_count": 55,
   "metadata": {},
   "outputs": [
    {
     "data": {
      "image/png": "[encoded data removed]",
      "text/plain": [
       "<Figure size 432x288 with 1 Axes>"
      ]
     },
     "metadata": {
      "needs_background": "light"
     },
     "output_type": "display_data"
    }
   ],
   "source": [
    "import matplotlib.pyplot as plt\n",
    "%matplotlib inline\n",
    "# shift train predictions for plotting\n",
    "trainPredictPlot = numpy.empty_like(dataset)\n",
    "trainPredictPlot[:, :] = numpy.nan\n",
    "trainPredictPlot[look_back:len(trainPredict)+look_back, :] = trainPredict\n",
    "\n",
    "# # shift test predictions for plotting\n",
    "# testPredictPlot = numpy.empty_like(dataset)\n",
    "# testPredictPlot[:, :] = numpy.nan\n",
    "# testPredictPlot[len(trainPredict)+(look_back*2)+1:len(dataset)-1, :] = testPredict\n",
    "\n",
    "# plot baseline and predictions\n",
    "plt.plot(scaler.inverse_transform(dataset))\n",
    "plt.plot(trainPredictPlot)\n",
    "# plt.plot(testPredictPlot)\n",
    "plt.show()"
   ]
  },
  {
   "cell_type": "code",
   "execution_count": 57,
   "metadata": {},
   "outputs": [
    {
     "data": {
      "text/plain": [
       "array([[0., 0., 0., ..., 0., 0., 0.]])"
      ]
     },
     "execution_count": 57,
     "metadata": {},
     "output_type": "execute_result"
    }
   ],
   "source": [
    "scaled_data"
   ]
  },
  {
   "cell_type": "code",
   "execution_count": 58,
   "metadata": {},
   "outputs": [],
   "source": [
    "x_train, y_train = [], []\n",
    "\n",
    "for i in range(60,len(train)):\n",
    "\n",
    "    x_train.append(dataset1[i-60:i,0])\n",
    "\n",
    "    y_train.append(dataset1[i,0])\n",
    "\n",
    "x_train, y_train = np.array(x_train), np.array(y_train)\n",
    "\n",
    " \n",
    "\n",
    "x_train = np.reshape(x_train, (x_train.shape[0],x_train.shape[1],1))\n",
    "\n"
   ]
  },
  {
   "cell_type": "code",
   "execution_count": 60,
   "metadata": {},
   "outputs": [
    {
     "name": "stdout",
     "output_type": "stream",
     "text": [
      "Epoch 1/1\n",
      " - 73s - loss: 21779.2588\n"
     ]
    },
    {
     "data": {
      "text/plain": [
       "<keras.callbacks.History at 0x13710c550>"
      ]
     },
     "execution_count": 60,
     "metadata": {},
     "output_type": "execute_result"
    }
   ],
   "source": [
    "model = Sequential()\n",
    "\n",
    "model.add(LSTM(units=50, return_sequences=True, input_shape=(x_train.shape[1],1)))\n",
    "\n",
    "model.add(LSTM(units=50))\n",
    "\n",
    "model.add(Dense(1))\n",
    "\n",
    " \n",
    "\n",
    "model.compile(loss='mean_squared_error', optimizer='adam')\n",
    "\n",
    "model.fit(x_train, y_train, epochs=1, batch_size=1, verbose=2)\n",
    "\n"
   ]
  },
  {
   "cell_type": "code",
   "execution_count": 61,
   "metadata": {},
   "outputs": [
    {
     "ename": "NameError",
     "evalue": "name 'new_data' is not defined",
     "output_type": "error",
     "traceback": [
      "\u001b[0;31m---------------------------------------------------------------------------\u001b[0m",
      "\u001b[0;31mNameError\u001b[0m                                 Traceback (most recent call last)",
      "\u001b[0;32m<ipython-input-61-70614bb628f0>\u001b[0m in \u001b[0;36m<module>\u001b[0;34m\u001b[0m\n\u001b[1;32m      1\u001b[0m \u001b[0;31m#predicting 246 values, using past 60 from the train data\u001b[0m\u001b[0;34m\u001b[0m\u001b[0;34m\u001b[0m\u001b[0;34m\u001b[0m\u001b[0m\n\u001b[1;32m      2\u001b[0m \u001b[0;34m\u001b[0m\u001b[0m\n\u001b[0;32m----> 3\u001b[0;31m \u001b[0minputs\u001b[0m \u001b[0;34m=\u001b[0m \u001b[0mnew_data\u001b[0m\u001b[0;34m[\u001b[0m\u001b[0mlen\u001b[0m\u001b[0;34m(\u001b[0m\u001b[0mnew_data\u001b[0m\u001b[0;34m)\u001b[0m \u001b[0;34m-\u001b[0m \u001b[0mlen\u001b[0m\u001b[0;34m(\u001b[0m\u001b[0mvalid\u001b[0m\u001b[0;34m)\u001b[0m \u001b[0;34m-\u001b[0m \u001b[0;36m60\u001b[0m\u001b[0;34m:\u001b[0m\u001b[0;34m]\u001b[0m\u001b[0;34m.\u001b[0m\u001b[0mvalues\u001b[0m\u001b[0;34m\u001b[0m\u001b[0;34m\u001b[0m\u001b[0m\n\u001b[0m\u001b[1;32m      4\u001b[0m \u001b[0;34m\u001b[0m\u001b[0m\n\u001b[1;32m      5\u001b[0m \u001b[0minputs\u001b[0m \u001b[0;34m=\u001b[0m \u001b[0minputs\u001b[0m\u001b[0;34m.\u001b[0m\u001b[0mreshape\u001b[0m\u001b[0;34m(\u001b[0m\u001b[0;34m-\u001b[0m\u001b[0;36m1\u001b[0m\u001b[0;34m,\u001b[0m\u001b[0;36m1\u001b[0m\u001b[0;34m)\u001b[0m\u001b[0;34m\u001b[0m\u001b[0;34m\u001b[0m\u001b[0m\n",
      "\u001b[0;31mNameError\u001b[0m: name 'new_data' is not defined"
     ]
    }
   ],
   "source": [
    "#predicting 246 values, using past 60 from the train data\n",
    "\n",
    "inputs = new_data[len(new_data) - len(valid) - 60:].values\n",
    "\n",
    "inputs = inputs.reshape(-1,1)\n",
    "\n",
    "inputs  = scaler.transform(inputs)"
   ]
  },
  {
   "cell_type": "code",
   "execution_count": null,
   "metadata": {},
   "outputs": [],
   "source": []
  }
 ],
 "metadata": {
  "kernelspec": {
   "display_name": "Python 3",
   "language": "python",
   "name": "python3"
  },
  "language_info": {
   "codemirror_mode": {
    "name": "ipython",
    "version": 3
   },
   "file_extension": ".py",
   "mimetype": "text/x-python",
   "name": "python",
   "nbconvert_exporter": "python",
   "pygments_lexer": "ipython3",
   "version": "3.7.3"
  }
 },
 "nbformat": 4,
 "nbformat_minor": 2
}
