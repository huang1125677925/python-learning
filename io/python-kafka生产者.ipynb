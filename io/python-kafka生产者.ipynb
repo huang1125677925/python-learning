{
 "cells": [
  {
   "cell_type": "code",
   "execution_count": 18,
   "metadata": {},
   "outputs": [],
   "source": [
    "import pandas as pd\n",
    "data=pd.read_csv('/Users/huangchuang/Downloads/test1.csv')"
   ]
  },
  {
   "cell_type": "code",
   "execution_count": 19,
   "metadata": {},
   "outputs": [
    {
     "data": {
      "text/html": [
       "<div>\n",
       "<style scoped>\n",
       "    .dataframe tbody tr th:only-of-type {\n",
       "        vertical-align: middle;\n",
       "    }\n",
       "\n",
       "    .dataframe tbody tr th {\n",
       "        vertical-align: top;\n",
       "    }\n",
       "\n",
       "    .dataframe thead th {\n",
       "        text-align: right;\n",
       "    }\n",
       "</style>\n",
       "<table border=\"1\" class=\"dataframe\">\n",
       "  <thead>\n",
       "    <tr style=\"text-align: right;\">\n",
       "      <th></th>\n",
       "      <th>Unnamed: 0</th>\n",
       "      <th>timestamp</th>\n",
       "      <th>value</th>\n",
       "      <th>label</th>\n",
       "      <th>KPI ID</th>\n",
       "    </tr>\n",
       "  </thead>\n",
       "  <tbody>\n",
       "    <tr>\n",
       "      <th>0</th>\n",
       "      <td>558594</td>\n",
       "      <td>1493568000</td>\n",
       "      <td>1.45</td>\n",
       "      <td>0</td>\n",
       "      <td>ffb82d38-5f00-37db-abc0-5d2e4e4cb6aa</td>\n",
       "    </tr>\n",
       "    <tr>\n",
       "      <th>1</th>\n",
       "      <td>558595</td>\n",
       "      <td>1493568060</td>\n",
       "      <td>1.80</td>\n",
       "      <td>0</td>\n",
       "      <td>ffb82d38-5f00-37db-abc0-5d2e4e4cb6aa</td>\n",
       "    </tr>\n",
       "    <tr>\n",
       "      <th>2</th>\n",
       "      <td>558596</td>\n",
       "      <td>1493568120</td>\n",
       "      <td>1.60</td>\n",
       "      <td>0</td>\n",
       "      <td>ffb82d38-5f00-37db-abc0-5d2e4e4cb6aa</td>\n",
       "    </tr>\n",
       "    <tr>\n",
       "      <th>3</th>\n",
       "      <td>558597</td>\n",
       "      <td>1493568180</td>\n",
       "      <td>1.65</td>\n",
       "      <td>0</td>\n",
       "      <td>ffb82d38-5f00-37db-abc0-5d2e4e4cb6aa</td>\n",
       "    </tr>\n",
       "    <tr>\n",
       "      <th>4</th>\n",
       "      <td>558598</td>\n",
       "      <td>1493568240</td>\n",
       "      <td>1.70</td>\n",
       "      <td>0</td>\n",
       "      <td>ffb82d38-5f00-37db-abc0-5d2e4e4cb6aa</td>\n",
       "    </tr>\n",
       "  </tbody>\n",
       "</table>\n",
       "</div>"
      ],
      "text/plain": [
       "   Unnamed: 0   timestamp  value  label                                KPI ID\n",
       "0      558594  1493568000   1.45      0  ffb82d38-5f00-37db-abc0-5d2e4e4cb6aa\n",
       "1      558595  1493568060   1.80      0  ffb82d38-5f00-37db-abc0-5d2e4e4cb6aa\n",
       "2      558596  1493568120   1.60      0  ffb82d38-5f00-37db-abc0-5d2e4e4cb6aa\n",
       "3      558597  1493568180   1.65      0  ffb82d38-5f00-37db-abc0-5d2e4e4cb6aa\n",
       "4      558598  1493568240   1.70      0  ffb82d38-5f00-37db-abc0-5d2e4e4cb6aa"
      ]
     },
     "execution_count": 19,
     "metadata": {},
     "output_type": "execute_result"
    }
   ],
   "source": [
    "data.head()"
   ]
  },
  {
   "cell_type": "code",
   "execution_count": 39,
   "metadata": {},
   "outputs": [
    {
     "data": {
      "text/plain": [
       "'Unnamed: 0|558594 timestamp|1493568000 value|1.45000004768 label|0 KPI ID|ffb82d38-5f00-37db-abc0-5d2e4e4cb6aa'"
      ]
     },
     "execution_count": 39,
     "metadata": {},
     "output_type": "execute_result"
    }
   ],
   "source": [
    "s=dict(data.loc[0,:])\n",
    "res=[]\n",
    "for key,value in s.items():\n",
    "    res.append(str(key)+'|'+str(value))\n",
    "' '.join(res)"
   ]
  },
  {
   "cell_type": "code",
   "execution_count": 4,
   "metadata": {},
   "outputs": [
    {
     "name": "stdout",
     "output_type": "stream",
     "text": [
      "0\n",
      "1\n",
      "2\n",
      "3\n",
      "4\n",
      "5\n",
      "6\n",
      "7\n",
      "8\n",
      "9\n",
      "10\n",
      "11\n",
      "12\n",
      "13\n",
      "14\n",
      "15\n",
      "16\n",
      "17\n",
      "18\n",
      "19\n",
      "20\n",
      "21\n",
      "22\n",
      "23\n",
      "24\n",
      "25\n",
      "26\n",
      "27\n",
      "28\n",
      "29\n",
      "30\n",
      "31\n",
      "32\n"
     ]
    },
    {
     "ename": "KeyboardInterrupt",
     "evalue": "",
     "output_type": "error",
     "traceback": [
      "\u001b[0;31m---------------------------------------------------------------------------\u001b[0m",
      "\u001b[0;31mKeyboardInterrupt\u001b[0m                         Traceback (most recent call last)",
      "\u001b[0;32m<ipython-input-4-f111c6a740e5>\u001b[0m in \u001b[0;36m<module>\u001b[0;34m\u001b[0m\n\u001b[1;32m     12\u001b[0m     \u001b[0mprint\u001b[0m\u001b[0;34m(\u001b[0m\u001b[0mi\u001b[0m\u001b[0;34m)\u001b[0m\u001b[0;34m\u001b[0m\u001b[0;34m\u001b[0m\u001b[0m\n\u001b[1;32m     13\u001b[0m     \u001b[0mi\u001b[0m \u001b[0;34m+=\u001b[0m \u001b[0;36m1\u001b[0m\u001b[0;34m\u001b[0m\u001b[0;34m\u001b[0m\u001b[0m\n\u001b[0;32m---> 14\u001b[0;31m     \u001b[0mtime\u001b[0m\u001b[0;34m.\u001b[0m\u001b[0msleep\u001b[0m\u001b[0;34m(\u001b[0m\u001b[0;36m1\u001b[0m\u001b[0;34m)\u001b[0m\u001b[0;34m\u001b[0m\u001b[0;34m\u001b[0m\u001b[0m\n\u001b[0m",
      "\u001b[0;31mKeyboardInterrupt\u001b[0m: "
     ]
    }
   ],
   "source": [
    "# producer.py\n",
    "import time\n",
    "from kafka import KafkaProducer\n",
    "\n",
    "producer = KafkaProducer(bootstrap_servers=\"10.10.103.63:9092\")\n",
    "i = 0\n",
    "while True:\n",
    "    s=\"huangchuang\"+str(i)\n",
    "    s=bytes(s, encoding = \"utf8\")\n",
    "    producer.send(\"test\",s)\n",
    "    producer.flush()\n",
    "    print(i)\n",
    "    i += 1\n",
    "    time.sleep(1)\n"
   ]
  },
  {
   "cell_type": "code",
   "execution_count": null,
   "metadata": {},
   "outputs": [],
   "source": []
  },
  {
   "cell_type": "code",
   "execution_count": null,
   "metadata": {},
   "outputs": [],
   "source": []
  }
 ],
 "metadata": {
  "kernelspec": {
   "display_name": "Python 3",
   "language": "python",
   "name": "python3"
  },
  "language_info": {
   "codemirror_mode": {
    "name": "ipython",
    "version": 3
   },
   "file_extension": ".py",
   "mimetype": "text/x-python",
   "name": "python",
   "nbconvert_exporter": "python",
   "pygments_lexer": "ipython3",
   "version": "3.7.3"
  }
 },
 "nbformat": 4,
 "nbformat_minor": 2
}
