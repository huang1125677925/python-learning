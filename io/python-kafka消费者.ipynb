{
  "cells": [
    {
      "cell_type": "code",
      "execution_count": 24,
      "metadata": {
        "pycharm": {}
      },
      "outputs": [],
      "source": "a\u003dstr(b\u0027{\"itemId\":177,\"recordTime\":1557910811,\"metric\":\"net.if.in.bytes\",\"host\":\"10.10.102.104\",\"tag\":\"{\\\\\"if\\\\\":\\\\\"em1\\\\\"}\",\"value\":\"793256\",\"platform\":\"zabbix\"}\u0027,encoding\u003d\u0027utf-8\u0027)"
    },
    {
      "cell_type": "code",
      "execution_count": 6,
      "metadata": {
        "pycharm": {}
      },
      "outputs": [],
      "source": [
        "a\u003dfrozenset([1,2])"
      ]
    },
    {
      "cell_type": "code",
      "execution_count": 7,
      "metadata": {
        "pycharm": {}
      },
      "outputs": [
        {
          "data": {
            "text/plain": [
              "{frozenset({1, 2}): 1}"
            ]
          },
          "execution_count": 7,
          "metadata": {},
          "output_type": "execute_result"
        }
      ],
      "source": [
        "d\u003d{}\n",
        "d[a]\u003d1\n",
        "d"
      ]
    },
    {
      "cell_type": "code",
      "execution_count": 31,
      "metadata": {
        "pycharm": {}
      },
      "outputs": [
        {
          "data": {
            "text/plain": [
              "{\u0027itemId\u0027: 177,\n",
              " \u0027recordTime\u0027: 1557910811,\n",
              " \u0027metric\u0027: \u0027net.if.in.bytes\u0027,\n",
              " \u0027host\u0027: \u002710.10.102.104\u0027,\n",
              " \u0027tag\u0027: \u0027{\"if\":\"em1\"}\u0027,\n",
              " \u0027value\u0027: \u0027793256\u0027,\n",
              " \u0027platform\u0027: \u0027zabbix\u0027}"
            ]
          },
          "execution_count": 31,
          "metadata": {},
          "output_type": "execute_result"
        }
      ],
      "source": [
        "b itemId"
      ]
    },
    {
      "cell_type": "code",
      "execution_count": 32,
      "metadata": {
        "pycharm": {}
      },
      "outputs": [],
      "source": [
        "from collections import deque\n",
        "\n",
        "d1 \u003d deque(maxlen\u003d5)\n",
        "d2 \u003d deque(range(10),4)\n",
        "d\u003d[]\n",
        "d.append(d1)\n",
        "d.append(d2)"
      ]
    },
    {
      "cell_type": "code",
      "execution_count": 33,
      "metadata": {
        "pycharm": {}
      },
      "outputs": [
        {
          "data": {
            "text/plain": [
              "[deque([]), deque([6, 7, 8, 9])]"
            ]
          },
          "execution_count": 33,
          "metadata": {},
          "output_type": "execute_result"
        }
      ],
      "source": [
        "d"
      ]
    },
    {
      "cell_type": "code",
      "execution_count": 34,
      "metadata": {
        "pycharm": {}
      },
      "outputs": [],
      "source": [
        "d2.append(10)"
      ]
    },
    {
      "cell_type": "code",
      "execution_count": 35,
      "metadata": {
        "pycharm": {}
      },
      "outputs": [
        {
          "data": {
            "text/plain": [
              "[deque([]), deque([7, 8, 9, 10])]"
            ]
          },
          "execution_count": 35,
          "metadata": {},
          "output_type": "execute_result"
        }
      ],
      "source": [
        "d"
      ]
    },
    {
      "cell_type": "code",
      "execution_count": 36,
      "metadata": {
        "pycharm": {}
      },
      "outputs": [
        {
          "data": {
            "text/plain": [
              "10"
            ]
          },
          "execution_count": 36,
          "metadata": {},
          "output_type": "execute_result"
        }
      ],
      "source": [
        "d2[-1]"
      ]
    },
    {
      "cell_type": "code",
      "execution_count": 37,
      "metadata": {
        "pycharm": {}
      },
      "outputs": [
        {
          "data": {
            "text/plain": [
              "4"
            ]
          },
          "execution_count": 37,
          "metadata": {},
          "output_type": "execute_result"
        }
      ],
      "source": [
        "len(d2)"
      ]
    },
    {
      "cell_type": "code",
      "execution_count": 38,
      "metadata": {
        "pycharm": {}
      },
      "outputs": [
        {
          "data": {
            "text/plain": [
              "0"
            ]
          },
          "execution_count": 38,
          "metadata": {},
          "output_type": "execute_result"
        }
      ],
      "source": [
        "len(d1)"
      ]
    },
    {
      "cell_type": "code",
      "execution_count": 1,
      "metadata": {
        "pycharm": {}
      },
      "outputs": [
        {
          "ename": "SyntaxError",
          "evalue": "unexpected character after line continuation character (\u003cipython-input-1-7feb7de6a1fc\u003e, line 1)",
          "output_type": "error",
          "traceback": [
            "\u001b[0;36m  File \u001b[0;32m\"\u003cipython-input-1-7feb7de6a1fc\u003e\"\u001b[0;36m, line \u001b[0;32m1\u001b[0m\n\u001b[0;31m    res\u003d{\"itemId\":176,\"recordTime\":1557910812,\"metric\":\"net.if.in.bytes\",\"host\":\"10.10.101.114\",\"tag\":\"{\\\\\"if\\\\\":\\\\\"br-e161d14aa0a6\\\\\"}\",\"value\":\"0\",\"platform\":\"zabbix\"}\u001b[0m\n\u001b[0m                                                                                                                                                                         ^\u001b[0m\n\u001b[0;31mSyntaxError\u001b[0m\u001b[0;31m:\u001b[0m unexpected character after line continuation character\n"
          ]
        }
      ],
      "source": [
        "res\u003d{\"itemId\":176,\"recordTime\":1557910812,\"metric\":\"net.if.in.bytes\",\"host\":\"10.10.101.114\",\"tag\":\"{\\\\\"if\\\\\":\\\\\"br-e161d14aa0a6\\\\\"}\",\"value\":\"0\",\"platform\":\"zabbix\"}\n",
        "res[\u0027category\u0027]"
      ]
    },
    {
      "cell_type": "code",
      "execution_count": null,
      "metadata": {
        "pycharm": {}
      },
      "outputs": [],
      "source": []
    }
  ],
  "metadata": {
    "kernelspec": {
      "display_name": "Python 3",
      "language": "python",
      "name": "python3"
    },
    "language_info": {
      "codemirror_mode": {
        "name": "ipython",
        "version": 3
      },
      "file_extension": ".py",
      "mimetype": "text/x-python",
      "name": "python",
      "nbconvert_exporter": "python",
      "pygments_lexer": "ipython3",
      "version": "3.7.3"
    },
    "stem_cell": {
      "cell_type": "raw",
      "source": "\nfrom kafka import KafkaConsumer\n\nconsumer \u003d KafkaConsumer(\u0027model\u0027,bootstrap_servers\u003d[\"10.10.103.63:9092\"])\n\nfor msg in consumer:\n    print(msg.value)",
      "metadata": {
        "pycharm": {
          "metadata": false
        }
      }
    }
  },
  "nbformat": 4,
  "nbformat_minor": 2
}