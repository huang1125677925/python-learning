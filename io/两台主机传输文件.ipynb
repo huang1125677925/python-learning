{
 "cells": [
  {
   "cell_type": "code",
   "execution_count": 12,
   "metadata": {},
   "outputs": [],
   "source": [
    "import paramiko\n",
    "ssh = paramiko.SSHClient()\n",
    " \n",
    "ssh.set_missing_host_key_policy(paramiko.AutoAddPolicy())\n",
    "ssh.connect(\"192.168.1.67\",  22, \"chenxueer\", \"19951119\")\n",
    "\n",
    "d=ssh.exec_command('ls')\n",
    "\n",
    "list(d)\n",
    "\n",
    "stdin, stdout, stderr = ssh.exec_command('ls')\n",
    "\n",
    "print(stdout.readlines())\n",
    "\n",
    "sftp = paramiko.SFTPClient.from_transport(ssh.get_transport())\n",
    "sftp = ssh.open_sftp()\n",
    "\n",
    "sftp.get('/Users/chenxueer/gbdt_default_model', 'gbdt_default_model')"
   ]
  }
 ],
 "metadata": {
  "kernelspec": {
   "display_name": "Python 3",
   "language": "python",
   "name": "python3"
  },
  "language_info": {
   "codemirror_mode": {
    "name": "ipython",
    "version": 3
   },
   "file_extension": ".py",
   "mimetype": "text/x-python",
   "name": "python",
   "nbconvert_exporter": "python",
   "pygments_lexer": "ipython3",
   "version": "3.7.3"
  }
 },
 "nbformat": 4,
 "nbformat_minor": 2
}
