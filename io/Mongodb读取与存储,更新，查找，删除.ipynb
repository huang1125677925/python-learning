{
 "cells": [
  {
   "cell_type": "code",
   "execution_count": 7,
   "metadata": {},
   "outputs": [
    {
     "name": "stdout",
     "output_type": "stream",
     "text": [
      "<pymongo.results.InsertOneResult object at 0x10d3f70c8>\n",
      "<pymongo.results.InsertOneResult object at 0x10d3f70c8>\n"
     ]
    }
   ],
   "source": [
    "#!/usr/bin/python3\n",
    " \n",
    "import pymongo\n",
    " \n",
    "myclient = pymongo.MongoClient(\"mongodb://localhost:27017/\")\n",
    "mydb = myclient[\"runoobdb\"]\n",
    "mycol = mydb[\"sites\"]\n",
    " \n",
    "mydict = { \"name\": \"RUNOOB\", \"alexa\": \"10000\", \"url\": \"https://www.runoob.com\" }\n",
    " \n",
    "x = mycol.insert_one(mydict) \n",
    "print(x)\n",
    "print(x)"
   ]
  },
  {
   "cell_type": "code",
   "execution_count": 10,
   "metadata": {},
   "outputs": [
    {
     "name": "stdout",
     "output_type": "stream",
     "text": [
      "[1, 2, 3, 4, 5]\n"
     ]
    }
   ],
   "source": [
    "mycol = mydb[\"site2\"]\n",
    " \n",
    "mylist = [\n",
    "  { \"_id\": 1, \"name\": \"RUNOOB\", \"cn_name\": \"菜鸟教程\"},\n",
    "  { \"_id\": 2, \"name\": \"Google\", \"address\": \"Google 搜索\"},\n",
    "  { \"_id\": 3, \"name\": \"Facebook\", \"address\": \"脸书\"},\n",
    "  { \"_id\": 4, \"name\": \"Taobao\", \"address\": \"淘宝\"},\n",
    "  { \"_id\": 5, \"name\": \"Zhihu\", \"address\": \"知乎\"}\n",
    "]\n",
    " \n",
    "x = mycol.insert_many(mylist)\n",
    " \n",
    "# 输出插入的所有文档对应的 _id 值\n",
    "print(x.inserted_ids)"
   ]
  },
  {
   "cell_type": "code",
   "execution_count": 11,
   "metadata": {},
   "outputs": [
    {
     "name": "stdout",
     "output_type": "stream",
     "text": [
      "True\n"
     ]
    }
   ],
   "source": [
    "print(x.acknowledged)"
   ]
  },
  {
   "cell_type": "code",
   "execution_count": 13,
   "metadata": {},
   "outputs": [
    {
     "name": "stdout",
     "output_type": "stream",
     "text": [
      "{'_id': 1, 'name': 'RUNOOB', 'cn_name': '菜鸟教程'}\n",
      "{'_id': 2, 'name': 'Google', 'address': 'Google 搜索'}\n",
      "{'_id': 3, 'name': 'Facebook', 'address': '脸书'}\n",
      "{'_id': 4, 'name': 'Taobao', 'address': '淘宝'}\n",
      "{'_id': 5, 'name': 'Zhihu', 'address': '知乎'}\n"
     ]
    }
   ],
   "source": [
    "for x in mycol.find():\n",
    "    print(x)"
   ]
  },
  {
   "cell_type": "code",
   "execution_count": 18,
   "metadata": {},
   "outputs": [
    {
     "name": "stdout",
     "output_type": "stream",
     "text": [
      "{'_id': 1, 'name': 'RUNOOB'}\n",
      "{'_id': 2, 'name': 'Google'}\n",
      "{'_id': 3, 'name': 'Facebook'}\n",
      "{'_id': 4, 'name': 'Taobao'}\n",
      "{'_id': 5, 'name': 'Zhihu'}\n"
     ]
    }
   ],
   "source": [
    "for x in mycol.find({},{ \"_id\": 1, \"name\": 1 }):\n",
    "      print(x)"
   ]
  },
  {
   "cell_type": "code",
   "execution_count": 21,
   "metadata": {},
   "outputs": [
    {
     "name": "stdout",
     "output_type": "stream",
     "text": [
      "{'_id': 1, 'name': 'RUNOOB', 'cn_name': '菜鸟教程'}\n"
     ]
    }
   ],
   "source": [
    "my_query={'name':'RUNOOB'}\n",
    "mydoc=mycol.find(my_query)\n",
    "for x in mydoc:\n",
    "    print(x)"
   ]
  },
  {
   "cell_type": "code",
   "execution_count": 26,
   "metadata": {},
   "outputs": [
    {
     "name": "stdout",
     "output_type": "stream",
     "text": [
      "{'_id': 1, 'name': 'RUNOOB', 'cn_name': '菜鸟教程'}\n",
      "{'_id': 2, 'name': 'Google', 'address': 'Google 搜索'}\n",
      "{'_id': 3, 'name': 'Facebook', 'address': '脸书'}\n",
      "{'_id': 4, 'name': 'Taobao', 'address': '淘宝'}\n",
      "{'_id': 5, 'name': 'Zhihu', 'address': '知乎'}\n"
     ]
    }
   ],
   "source": [
    "myquery = { \"name\": { \"$gt\": \"A\" } }\n",
    " \n",
    "mydoc = mycol.find(myquery)\n",
    " \n",
    "for x in mydoc:\n",
    "      print(x)"
   ]
  },
  {
   "cell_type": "code",
   "execution_count": 27,
   "metadata": {},
   "outputs": [
    {
     "name": "stdout",
     "output_type": "stream",
     "text": [
      "{'_id': 1, 'name': 'RUNOOB', 'cn_name': '菜鸟教程'}\n"
     ]
    }
   ],
   "source": [
    "myquery = { \"name\": { \"$regex\": \"^R\" } }\n",
    " \n",
    "mydoc = mycol.find(myquery)\n",
    " \n",
    "for x in mydoc:\n",
    "      print(x)"
   ]
  },
  {
   "cell_type": "code",
   "execution_count": 28,
   "metadata": {},
   "outputs": [
    {
     "name": "stdout",
     "output_type": "stream",
     "text": [
      "{'_id': 1, 'name': 'RUNOOB', 'cn_name': '菜鸟教程'}\n",
      "{'_id': 2, 'name': 'Google', 'address': 'Google 搜索'}\n",
      "{'_id': 3, 'name': 'Facebook', 'address': '脸书'}\n"
     ]
    }
   ],
   "source": [
    "myresult = mycol.find().limit(3)\n",
    " \n",
    "# 输出结果\n",
    "for x in myresult:\n",
    "      print(x)"
   ]
  },
  {
   "cell_type": "code",
   "execution_count": 32,
   "metadata": {},
   "outputs": [
    {
     "name": "stdout",
     "output_type": "stream",
     "text": [
      "{'_id': 1, 'name': 'runoob', 'cn_name': '菜鸟教程'}\n",
      "{'_id': 2, 'name': 'Google', 'address': 'Google 搜索'}\n",
      "{'_id': 3, 'name': 'Facebook', 'address': '脸书'}\n",
      "{'_id': 4, 'name': 'Taobao', 'address': '淘宝'}\n",
      "{'_id': 5, 'name': 'Zhihu', 'address': '知乎'}\n"
     ]
    }
   ],
   "source": [
    "myquery = { \"name\": 'RUNOOB' }\n",
    "newvalues = { \"$set\": { \"name\": \"runoob\" } }\n",
    " \n",
    "mycol.update_one(myquery, newvalues)\n",
    " \n",
    "# 输出修改后的  \"sites\"  集合\n",
    "for x in mycol.find():\n",
    "      print(x)"
   ]
  },
  {
   "cell_type": "code",
   "execution_count": 33,
   "metadata": {},
   "outputs": [
    {
     "name": "stdout",
     "output_type": "stream",
     "text": [
      "{'_id': 1, 'name': 'runoob', 'cn_name': '菜鸟教程'}\n",
      "{'_id': 2, 'name': 'Google', 'address': 'Google 搜索'}\n",
      "{'_id': 3, 'name': 'Facebook', 'address': '脸书'}\n",
      "{'_id': 5, 'name': 'Zhihu', 'address': '知乎'}\n"
     ]
    }
   ],
   "source": [
    "myquery = { \"name\": \"Taobao\" }\n",
    " \n",
    "mycol.delete_one(myquery)\n",
    " \n",
    "# 删除后输出\n",
    "for x in mycol.find():\n",
    "      print(x)"
   ]
  },
  {
   "cell_type": "code",
   "execution_count": 34,
   "metadata": {},
   "outputs": [
    {
     "name": "stdout",
     "output_type": "stream",
     "text": [
      "1 个文档已删除\n"
     ]
    }
   ],
   "source": [
    "myquery = { \"name\": {\"$regex\": \"^F\"} }\n",
    " \n",
    "x = mycol.delete_many(myquery)\n",
    " \n",
    "print(x.deleted_count, \"个文档已删除\")"
   ]
  },
  {
   "cell_type": "code",
   "execution_count": null,
   "metadata": {},
   "outputs": [],
   "source": []
  }
 ],
 "metadata": {
  "kernelspec": {
   "display_name": "Python 3",
   "language": "python",
   "name": "python3"
  },
  "language_info": {
   "codemirror_mode": {
    "name": "ipython",
    "version": 3
   },
   "file_extension": ".py",
   "mimetype": "text/x-python",
   "name": "python",
   "nbconvert_exporter": "python",
   "pygments_lexer": "ipython3",
   "version": "3.7.3"
  }
 },
 "nbformat": 4,
 "nbformat_minor": 2
}
